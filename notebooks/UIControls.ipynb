{
 "cells": [
  {
   "cell_type": "markdown",
   "metadata": {},
   "source": [
    "# UIControls example\n",
    "\n",
    "### iOS REPL with Swifter.jl + AppConsole\n",
    "\n",
    "* https://github.com/wookay/Swifter.jl\n",
    "\n",
    "* https://github.com/wookay/AppConsole"
   ]
  },
  {
   "cell_type": "markdown",
   "metadata": {},
   "source": [
    "* open AppConsole/Demo/UIControls/UIControls.xcworkspace\n",
    "\n",
    "```swift\n",
    "// part of ViewController.swift\n",
    "class ViewController: UIViewController {\n",
    "\n",
    "    @IBOutlet var label: UILabel!\n",
    "    @IBOutlet var textField: UITextField!\n",
    "    @IBOutlet var button: UIButton!\n",
    "    @IBOutlet var switch_: UISwitch!\n",
    "    @IBOutlet var segmentedControl: UISegmentedControl!\n",
    "    @IBOutlet var slider: UISlider!\n",
    "    @IBOutlet var progressView: UIProgressView!\n",
    "\n",
    "    override func viewDidLoad() {\n",
    "        super.viewDidLoad()\n",
    "        // Do any additional setup after loading the view, typically from a nib.\n",
    "\n",
    "        label.text = AppConsole(initial: self).run()\n",
    "    }\n",
    "\n",
    "    ...\n",
    "```\n",
    "\n",
    "* Run"
   ]
  },
  {
   "cell_type": "code",
   "execution_count": 1,
   "metadata": {
    "collapsed": false
   },
   "outputs": [],
   "source": [
    "using Swifter"
   ]
  },
  {
   "cell_type": "code",
   "execution_count": 2,
   "metadata": {
    "collapsed": false
   },
   "outputs": [
    {
     "data": {
      "text/markdown": [
       "```\n",
       "<UIControls.ViewController: 0x7ff113599d90>\n",
       "```\n"
      ],
      "text/plain": [
       "<UIControls.ViewController: 0x7ff113599d90>"
      ]
     },
     "execution_count": 2,
     "metadata": {},
     "output_type": "execute_result"
    }
   ],
   "source": [
    "vc = initial(\"http://localhost:8080\")"
   ]
  },
  {
   "cell_type": "code",
   "execution_count": 3,
   "metadata": {
    "collapsed": false
   },
   "outputs": [
    {
     "data": {
      "text/markdown": [
       "```\n",
       "<UIView: 0x7ff1135bdd70; frame = (0 0; 320 568); autoresize = W+H; layer = <CALayer: 0x7ff1135bdee0>>\n",
       "```\n",
       "<img src=\"images/0x7ff113599d90.view-f6SEWJlttV.png?r&#61;f6SEWJlttV\" alt=\"0x7ff113599d90.view\" style=\"width:160.0px; height: 284.0px;\" />"
      ],
      "text/plain": [
       "<UIView: 0x7ff1135bdd70; frame = (0 0; 320 568); autoresize = W+H; layer = <CALayer: 0x7ff1135bdee0>>"
      ]
     },
     "execution_count": 3,
     "metadata": {},
     "output_type": "execute_result"
    }
   ],
   "source": [
    "@query vc.view"
   ]
  },
  {
   "cell_type": "code",
   "execution_count": 4,
   "metadata": {
    "collapsed": false
   },
   "outputs": [
    {
     "data": {
      "text/markdown": [
       "```\n",
       "Hello Swift\n",
       "```\n"
      ],
      "text/plain": [
       "\"Hello Swift\""
      ]
     },
     "execution_count": 4,
     "metadata": {},
     "output_type": "execute_result"
    }
   ],
   "source": [
    "@query vc.label.text = \"Hello Swift\""
   ]
  },
  {
   "cell_type": "code",
   "execution_count": 5,
   "metadata": {
    "collapsed": false
   },
   "outputs": [
    {
     "data": {
      "text/markdown": [
       "```\n",
       "Hello Julia\n",
       "```\n"
      ],
      "text/plain": [
       "\"Hello Julia\""
      ]
     },
     "execution_count": 5,
     "metadata": {},
     "output_type": "execute_result"
    }
   ],
   "source": [
    "@query vc.textField.text = \"Hello Julia\""
   ]
  },
  {
   "cell_type": "code",
   "execution_count": 6,
   "metadata": {
    "collapsed": false
   },
   "outputs": [
    {
     "data": {
      "text/markdown": [
       "```\n",
       "<UITextField: 0x7ff1135a7230; frame = (13 171; 282 30); text = 'Hello Julia'; clipsToBounds = YES; opaque = NO; autoresize = RM+BM; gestureRecognizers = <NSArray: 0x7ff11365c250>; layer = <CALayer: 0x7ff1135a70c0>>\n",
       "```\n",
       "<img src=\"images/0x7ff113599d90.textField-cKbDI58Lmr.png?r&#61;cKbDI58Lmr\" alt=\"0x7ff113599d90.textField\" style=\"width:282.0px; height: 30.0px;\" />"
      ],
      "text/plain": [
       "<UITextField: 0x7ff1135a7230; frame = (13 171; 282 30); text = 'Hello Julia'; clipsToBounds = YES; opaque = NO; autoresize = RM+BM; gestureRecognizers = <NSArray: 0x7ff11365c250>; layer = <CALayer: 0x7ff1135a70c0>>"
      ]
     },
     "execution_count": 6,
     "metadata": {},
     "output_type": "execute_result"
    }
   ],
   "source": [
    "@query vc.textField"
   ]
  },
  {
   "cell_type": "code",
   "execution_count": 7,
   "metadata": {
    "collapsed": false
   },
   "outputs": [
    {
     "data": {
      "text/markdown": [
       "```\n",
       "<UIButton: 0x7ff1136527e0; frame = (13 238; 99 30); opaque = NO; autoresize = RM+BM; layer = <CALayer: 0x7ff11364d4d0>>\n",
       "```\n",
       "<img src=\"images/0x7ff113599d90.button-78JkohTnnV.png?r&#61;78JkohTnnV\" alt=\"0x7ff113599d90.button\" style=\"width:99.0px; height: 30.0px;\" />"
      ],
      "text/plain": [
       "<UIButton: 0x7ff1136527e0; frame = (13 238; 99 30); opaque = NO; autoresize = RM+BM; layer = <CALayer: 0x7ff11364d4d0>>"
      ]
     },
     "execution_count": 7,
     "metadata": {},
     "output_type": "execute_result"
    }
   ],
   "source": [
    "@query vc.button"
   ]
  },
  {
   "cell_type": "code",
   "execution_count": 8,
   "metadata": {
    "collapsed": false
   },
   "outputs": [
    {
     "data": {
      "text/markdown": [],
      "text/plain": []
     },
     "execution_count": 8,
     "metadata": {},
     "output_type": "execute_result"
    }
   ],
   "source": [
    "@query vc.button.tap()"
   ]
  },
  {
   "cell_type": "code",
   "execution_count": 9,
   "metadata": {
    "collapsed": false
   },
   "outputs": [
    {
     "data": {
      "text/markdown": [
       "```\n",
       "<UISwitch: 0x7ff1135aaaa0; frame = (246 237; 51 31); opaque = NO; autoresize = RM+BM; layer = <CALayer: 0x7ff1135a67b0>>\n",
       "```\n",
       "<img src=\"images/0x7ff113599d90.switch_-0KpifqDRYr.png?r&#61;0KpifqDRYr\" alt=\"0x7ff113599d90.switch_\" style=\"width:51.0px; height: 31.0px;\" />"
      ],
      "text/plain": [
       "<UISwitch: 0x7ff1135aaaa0; frame = (246 237; 51 31); opaque = NO; autoresize = RM+BM; layer = <CALayer: 0x7ff1135a67b0>>"
      ]
     },
     "execution_count": 9,
     "metadata": {},
     "output_type": "execute_result"
    }
   ],
   "source": [
    "@query vc.switch_"
   ]
  },
  {
   "cell_type": "code",
   "execution_count": 10,
   "metadata": {
    "collapsed": false
   },
   "outputs": [
    {
     "data": {
      "text/markdown": [],
      "text/plain": []
     },
     "execution_count": 10,
     "metadata": {},
     "output_type": "execute_result"
    }
   ],
   "source": [
    "@query vc.switch_.tap()"
   ]
  },
  {
   "cell_type": "code",
   "execution_count": 11,
   "metadata": {
    "collapsed": false
   },
   "outputs": [
    {
     "data": {
      "text/markdown": [
       "```\n",
       "<UISwitch: 0x7ff1135aaaa0; frame = (246 237; 51 31); opaque = NO; autoresize = RM+BM; layer = <CALayer: 0x7ff1135a67b0>>\n",
       "```\n",
       "<img src=\"images/0x7ff113599d90.switch_-wRtlX1j8Pv.png?r&#61;wRtlX1j8Pv\" alt=\"0x7ff113599d90.switch_\" style=\"width:51.0px; height: 31.0px;\" />"
      ],
      "text/plain": [
       "<UISwitch: 0x7ff1135aaaa0; frame = (246 237; 51 31); opaque = NO; autoresize = RM+BM; layer = <CALayer: 0x7ff1135a67b0>>"
      ]
     },
     "execution_count": 11,
     "metadata": {},
     "output_type": "execute_result"
    }
   ],
   "source": [
    "@query vc.switch_"
   ]
  },
  {
   "cell_type": "code",
   "execution_count": 12,
   "metadata": {
    "collapsed": false
   },
   "outputs": [
    {
     "data": {
      "text/markdown": [
       "```\n",
       "<UISegmentedControl: 0x7ff113653f50; frame = (13 316; 282 29); opaque = NO; autoresize = RM+BM; layer = <CALayer: 0x7ff113400af0>>\n",
       "```\n",
       "<img src=\"images/0x7ff113599d90.segmentedControl-m9szfDwAah.png?r&#61;m9szfDwAah\" alt=\"0x7ff113599d90.segmentedControl\" style=\"width:282.0px; height: 29.0px;\" />"
      ],
      "text/plain": [
       "<UISegmentedControl: 0x7ff113653f50; frame = (13 316; 282 29); opaque = NO; autoresize = RM+BM; layer = <CALayer: 0x7ff113400af0>>"
      ]
     },
     "execution_count": 12,
     "metadata": {},
     "output_type": "execute_result"
    }
   ],
   "source": [
    "@query vc.segmentedControl"
   ]
  },
  {
   "cell_type": "code",
   "execution_count": 13,
   "metadata": {
    "collapsed": false
   },
   "outputs": [
    {
     "data": {
      "text/markdown": [],
      "text/plain": []
     },
     "execution_count": 13,
     "metadata": {},
     "output_type": "execute_result"
    }
   ],
   "source": [
    "@query vc.segmentedControl.tap(title: \"Second\")"
   ]
  },
  {
   "cell_type": "code",
   "execution_count": 14,
   "metadata": {
    "collapsed": false
   },
   "outputs": [
    {
     "data": {
      "text/markdown": [
       "```\n",
       "<UISegmentedControl: 0x7ff113653f50; frame = (13 316; 282 29); opaque = NO; autoresize = RM+BM; layer = <CALayer: 0x7ff113400af0>>\n",
       "```\n",
       "<img src=\"images/0x7ff113599d90.segmentedControl-xj0dCrPnGn.png?r&#61;xj0dCrPnGn\" alt=\"0x7ff113599d90.segmentedControl\" style=\"width:282.0px; height: 29.0px;\" />"
      ],
      "text/plain": [
       "<UISegmentedControl: 0x7ff113653f50; frame = (13 316; 282 29); opaque = NO; autoresize = RM+BM; layer = <CALayer: 0x7ff113400af0>>"
      ]
     },
     "execution_count": 14,
     "metadata": {},
     "output_type": "execute_result"
    }
   ],
   "source": [
    "@query vc.segmentedControl"
   ]
  },
  {
   "cell_type": "code",
   "execution_count": 15,
   "metadata": {
    "collapsed": false
   },
   "outputs": [
    {
     "data": {
      "text/markdown": [],
      "text/plain": []
     },
     "execution_count": 15,
     "metadata": {},
     "output_type": "execute_result"
    }
   ],
   "source": [
    "@query vc.segmentedControl.tap(index: 2)"
   ]
  },
  {
   "cell_type": "code",
   "execution_count": 16,
   "metadata": {
    "collapsed": false
   },
   "outputs": [
    {
     "data": {
      "text/markdown": [
       "```\n",
       "<UISegmentedControl: 0x7ff113653f50; frame = (13 316; 282 29); opaque = NO; autoresize = RM+BM; layer = <CALayer: 0x7ff113400af0>>\n",
       "```\n",
       "<img src=\"images/0x7ff113599d90.segmentedControl-FkGc5nfDtH.png?r&#61;FkGc5nfDtH\" alt=\"0x7ff113599d90.segmentedControl\" style=\"width:282.0px; height: 29.0px;\" />"
      ],
      "text/plain": [
       "<UISegmentedControl: 0x7ff113653f50; frame = (13 316; 282 29); opaque = NO; autoresize = RM+BM; layer = <CALayer: 0x7ff113400af0>>"
      ]
     },
     "execution_count": 16,
     "metadata": {},
     "output_type": "execute_result"
    }
   ],
   "source": [
    "@query vc.segmentedControl"
   ]
  },
  {
   "cell_type": "code",
   "execution_count": 17,
   "metadata": {
    "collapsed": false
   },
   "outputs": [
    {
     "data": {
      "text/markdown": [
       "```\n",
       "<UISlider: 0x7ff11365ca80; frame = (29 377; 268 31); opaque = NO; autoresize = RM+BM; layer = <CALayer: 0x7ff1135b86c0>; value: 0.500000>\n",
       "```\n",
       "<img src=\"images/0x7ff113599d90.slider-89ydbn7gwM.png?r&#61;89ydbn7gwM\" alt=\"0x7ff113599d90.slider\" style=\"width:268.0px; height: 31.0px;\" />"
      ],
      "text/plain": [
       "<UISlider: 0x7ff11365ca80; frame = (29 377; 268 31); opaque = NO; autoresize = RM+BM; layer = <CALayer: 0x7ff1135b86c0>; value: 0.500000>"
      ]
     },
     "execution_count": 17,
     "metadata": {},
     "output_type": "execute_result"
    }
   ],
   "source": [
    "@query vc.slider"
   ]
  },
  {
   "cell_type": "code",
   "execution_count": 18,
   "metadata": {
    "collapsed": false
   },
   "outputs": [
    {
     "data": {
      "text/markdown": [],
      "text/plain": []
     },
     "execution_count": 18,
     "metadata": {},
     "output_type": "execute_result"
    }
   ],
   "source": [
    "@query vc.slider.tap(value: 1)"
   ]
  },
  {
   "cell_type": "code",
   "execution_count": 19,
   "metadata": {
    "collapsed": false
   },
   "outputs": [
    {
     "data": {
      "text/markdown": [
       "```\n",
       "<UISlider: 0x7ff11365ca80; frame = (29 377; 268 31); opaque = NO; autoresize = RM+BM; layer = <CALayer: 0x7ff1135b86c0>; value: 1.000000>\n",
       "```\n",
       "<img src=\"images/0x7ff113599d90.slider-qoTiF6GPdr.png?r&#61;qoTiF6GPdr\" alt=\"0x7ff113599d90.slider\" style=\"width:268.0px; height: 31.0px;\" />"
      ],
      "text/plain": [
       "<UISlider: 0x7ff11365ca80; frame = (29 377; 268 31); opaque = NO; autoresize = RM+BM; layer = <CALayer: 0x7ff1135b86c0>; value: 1.000000>"
      ]
     },
     "execution_count": 19,
     "metadata": {},
     "output_type": "execute_result"
    }
   ],
   "source": [
    "@query vc.slider"
   ]
  },
  {
   "cell_type": "code",
   "execution_count": 20,
   "metadata": {
    "collapsed": false
   },
   "outputs": [
    {
     "data": {
      "text/markdown": [
       "```\n",
       "<UIProgressView: 0x7ff1135b7180; frame = (31 444; 264 2); opaque = NO; autoresize = RM+BM; layer = <CALayer: 0x7ff1135b7380>>\n",
       "```\n",
       "<img src=\"images/0x7ff113599d90.progressView-Ib7XmtUm9z.png?r&#61;Ib7XmtUm9z\" alt=\"0x7ff113599d90.progressView\" style=\"width:264.0px; height: 2.0px;\" />"
      ],
      "text/plain": [
       "<UIProgressView: 0x7ff1135b7180; frame = (31 444; 264 2); opaque = NO; autoresize = RM+BM; layer = <CALayer: 0x7ff1135b7380>>"
      ]
     },
     "execution_count": 20,
     "metadata": {},
     "output_type": "execute_result"
    }
   ],
   "source": [
    "@query vc.progressView"
   ]
  },
  {
   "cell_type": "code",
   "execution_count": 21,
   "metadata": {
    "collapsed": false
   },
   "outputs": [
    {
     "data": {
      "text/markdown": [],
      "text/plain": []
     },
     "execution_count": 21,
     "metadata": {},
     "output_type": "execute_result"
    }
   ],
   "source": [
    "@query vc.progressView.setProgress(1, animated: true)"
   ]
  },
  {
   "cell_type": "code",
   "execution_count": 22,
   "metadata": {
    "collapsed": false
   },
   "outputs": [
    {
     "data": {
      "text/markdown": [
       "```\n",
       "<UIProgressView: 0x7ff1135b7180; frame = (31 444; 264 2); opaque = NO; autoresize = RM+BM; layer = <CALayer: 0x7ff1135b7380>>\n",
       "```\n",
       "<img src=\"images/0x7ff113599d90.progressView-pkUxpYiKxg.png?r&#61;pkUxpYiKxg\" alt=\"0x7ff113599d90.progressView\" style=\"width:264.0px; height: 2.0px;\" />"
      ],
      "text/plain": [
       "<UIProgressView: 0x7ff1135b7180; frame = (31 444; 264 2); opaque = NO; autoresize = RM+BM; layer = <CALayer: 0x7ff1135b7380>>"
      ]
     },
     "execution_count": 22,
     "metadata": {},
     "output_type": "execute_result"
    }
   ],
   "source": [
    "@query vc.progressView"
   ]
  },
  {
   "cell_type": "code",
   "execution_count": 23,
   "metadata": {
    "collapsed": false
   },
   "outputs": [
    {
     "data": {
      "text/markdown": [
       "  * &lt;UILabel: 0x7ff1135b8b80; frame &#61; &#40;13 89; 282 57&#41;; text &#61; &#39;Hello Swift&#39;; opaque &#61; NO; autoresize &#61; RM&#43;BM; userInteractionEnabled &#61; NO; layer &#61; &lt;_UILabelLayer: 0x7ff1135b8f30&gt;&gt;\n",
       "  * &lt;UIButton: 0x7ff1136527e0; frame &#61; &#40;13 238; 99 30&#41;; opaque &#61; NO; autoresize &#61; RM&#43;BM; layer &#61; &lt;CALayer: 0x7ff11364d4d0&gt;&gt;\n",
       "  * &lt;UITextField: 0x7ff1135a7230; frame &#61; &#40;13 171; 282 30&#41;; text &#61; &#39;Hello Julia&#39;; clipsToBounds &#61; YES; opaque &#61; NO; autoresize &#61; RM&#43;BM; gestureRecognizers &#61; &lt;NSArray: 0x7ff11365c250&gt;; layer &#61; &lt;CALayer: 0x7ff1135a70c0&gt;&gt;\n",
       "  * &lt;UISlider: 0x7ff11365ca80; frame &#61; &#40;29 377; 268 31&#41;; opaque &#61; NO; autoresize &#61; RM&#43;BM; layer &#61; &lt;CALayer: 0x7ff1135b86c0&gt;; value: 1.000000&gt;\n",
       "  * &lt;UIProgressView: 0x7ff1135b7180; frame &#61; &#40;31 444; 264 2&#41;; opaque &#61; NO; autoresize &#61; RM&#43;BM; layer &#61; &lt;CALayer: 0x7ff1135b7380&gt;&gt;\n",
       "  * &lt;UISegmentedControl: 0x7ff113653f50; frame &#61; &#40;13 316; 282 29&#41;; opaque &#61; NO; autoresize &#61; RM&#43;BM; layer &#61; &lt;CALayer: 0x7ff113400af0&gt;&gt;\n",
       "  * &lt;UISwitch: 0x7ff1135aaaa0; frame &#61; &#40;246 237; 51 31&#41;; opaque &#61; NO; autoresize &#61; RM&#43;BM; layer &#61; &lt;CALayer: 0x7ff1135a67b0&gt;&gt;\n",
       "  * &lt;_UILayoutGuide: 0x7ff1135bbaf0; frame &#61; &#40;0 0; 0 20&#41;; hidden &#61; YES; layer &#61; &lt;CALayer: 0x7ff1135bdfa0&gt;&gt;\n",
       "  * &lt;_UILayoutGuide: 0x7ff1135bd910; frame &#61; &#40;0 568; 0 0&#41;; hidden &#61; YES; layer &#61; &lt;CALayer: 0x7ff1135bdaa0&gt;&gt;\n"
      ],
      "text/plain": [
       "0\u001b[0m <UILabel: 0x7ff1135b8b80; frame = (13 89; 282 57); text = 'Hello Swift'; opaque = NO; autoresize = RM+BM; userInteractionEnabled = NO; layer = <_UILabelLayer: 0x7ff1135b8f30>>\n",
       "1\u001b[0m <UIButton: 0x7ff1136527e0; frame = (13 238; 99 30); opaque = NO; autoresize = RM+BM; layer = <CALayer: 0x7ff11364d4d0>>\n",
       "2\u001b[0m <UITextField: 0x7ff1135a7230; frame = (13 171; 282 30); text = 'Hello Julia'; clipsToBounds = YES; opaque = NO; autoresize = RM+BM; gestureRecognizers = <NSArray: 0x7ff11365c250>; layer = <CALayer: 0x7ff1135a70c0>>\n",
       "3\u001b[0m <UISlider: 0x7ff11365ca80; frame = (29 377; 268 31); opaque = NO; autoresize = RM+BM; layer = <CALayer: 0x7ff1135b86c0>; value: 1.000000>\n",
       "4\u001b[0m <UIProgressView: 0x7ff1135b7180; frame = (31 444; 264 2); opaque = NO; autoresize = RM+BM; layer = <CALayer: 0x7ff1135b7380>>\n",
       "5\u001b[0m <UISegmentedControl: 0x7ff113653f50; frame = (13 316; 282 29); opaque = NO; autoresize = RM+BM; layer = <CALayer: 0x7ff113400af0>>\n",
       "6\u001b[0m <UISwitch: 0x7ff1135aaaa0; frame = (246 237; 51 31); opaque = NO; autoresize = RM+BM; layer = <CALayer: 0x7ff1135a67b0>>\n",
       "7\u001b[0m <_UILayoutGuide: 0x7ff1135bbaf0; frame = (0 0; 0 20); hidden = YES; layer = <CALayer: 0x7ff1135bdfa0>>\n",
       "8\u001b[0m <_UILayoutGuide: 0x7ff1135bd910; frame = (0 568; 0 0); hidden = YES; layer = <CALayer: 0x7ff1135bdaa0>>"
      ]
     },
     "execution_count": 23,
     "metadata": {},
     "output_type": "execute_result"
    }
   ],
   "source": [
    "@query vc.view.subviews"
   ]
  },
  {
   "cell_type": "code",
   "execution_count": 24,
   "metadata": {
    "collapsed": false
   },
   "outputs": [
    {
     "data": {
      "text/plain": [
       "false"
      ]
     },
     "execution_count": 24,
     "metadata": {},
     "output_type": "execute_result"
    }
   ],
   "source": [
    "ENV[\"SWIFTER_SAVE_IMAGE\"] = false"
   ]
  }
 ],
 "metadata": {
  "kernelspec": {
   "display_name": "Julia 0.4.5",
   "language": "julia",
   "name": "julia-0.4"
  },
  "language_info": {
   "file_extension": ".jl",
   "mimetype": "application/julia",
   "name": "julia",
   "version": "0.4.5"
  }
 },
 "nbformat": 4,
 "nbformat_minor": 0
}
