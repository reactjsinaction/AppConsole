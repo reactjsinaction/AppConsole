{
 "cells": [
  {
   "cell_type": "markdown",
   "metadata": {},
   "source": [
    "# UIControls example\n",
    "\n",
    "### iOS REPL with Swifter.jl + AppConsole\n",
    "\n",
    "* https://github.com/wookay/Swifter.jl\n",
    "\n",
    "* https://github.com/wookay/AppConsole"
   ]
  },
  {
   "cell_type": "markdown",
   "metadata": {},
   "source": [
    "* open Demo/UIControls/UIControls.xcworkspace\n",
    "* Run"
   ]
  },
  {
   "cell_type": "code",
   "execution_count": 1,
   "metadata": {
    "collapsed": false
   },
   "outputs": [],
   "source": [
    "using Swifter"
   ]
  },
  {
   "cell_type": "code",
   "execution_count": 2,
   "metadata": {
    "collapsed": false
   },
   "outputs": [
    {
     "data": {
      "text/markdown": [
       "```\n",
       "<UIControls.AppDelegate: 0x7f90d2c15c00>\n",
       "```\n"
      ],
      "text/plain": [
       "<UIControls.AppDelegate: 0x7f90d2c15c00>"
      ]
     },
     "execution_count": 2,
     "metadata": {},
     "output_type": "execute_result"
    }
   ],
   "source": [
    "app = initial(\"http://localhost:8080\")"
   ]
  },
  {
   "cell_type": "code",
   "execution_count": 3,
   "metadata": {
    "collapsed": false
   },
   "outputs": [
    {
     "data": {
      "text/markdown": [
       "```\n",
       "<UIControls.ViewController: 0x7f90d2cafa50>\n",
       "```\n"
      ],
      "text/plain": [
       "<UIControls.ViewController: 0x7f90d2cafa50>"
      ]
     },
     "execution_count": 3,
     "metadata": {},
     "output_type": "execute_result"
    }
   ],
   "source": [
    "vc = @query app.window.rootViewController"
   ]
  },
  {
   "cell_type": "code",
   "execution_count": 4,
   "metadata": {
    "collapsed": false
   },
   "outputs": [
    {
     "data": {
      "text/markdown": [
       "```\n",
       "<UIView: 0x7f90d2d37190; frame = (0 0; 320 568); autoresize = W+H; layer = <CALayer: 0x7f90d2d37300>>\n",
       "```\n",
       "<img src=\"images/0x7f90d2cafa50.view-VYjzwAKY6x.png?r&#61;VYjzwAKY6x\" alt=\"0x7f90d2cafa50.view\" style=\"width:160.0px; height: 284.0px;\" />"
      ],
      "text/plain": [
       "<UIView: 0x7f90d2d37190; frame = (0 0; 320 568); autoresize = W+H; layer = <CALayer: 0x7f90d2d37300>>"
      ]
     },
     "execution_count": 4,
     "metadata": {},
     "output_type": "execute_result"
    }
   ],
   "source": [
    "@query vc.view"
   ]
  },
  {
   "cell_type": "code",
   "execution_count": 5,
   "metadata": {
    "collapsed": false
   },
   "outputs": [
    {
     "data": {
      "text/markdown": [
       "```\n",
       "Hello Julia\n",
       "```\n"
      ],
      "text/plain": [
       "\"Hello Julia\""
      ]
     },
     "execution_count": 5,
     "metadata": {},
     "output_type": "execute_result"
    }
   ],
   "source": [
    "@query vc.textField.text = \"Hello Julia\""
   ]
  },
  {
   "cell_type": "code",
   "execution_count": 6,
   "metadata": {
    "collapsed": false
   },
   "outputs": [
    {
     "data": {
      "text/markdown": [
       "```\n",
       "<UITextField: 0x7f90d2cc8170; frame = (13 171; 282 30); text = 'Hello Julia'; clipsToBounds = YES; opaque = NO; autoresize = RM+BM; gestureRecognizers = <NSArray: 0x7f90d2d2d010>; layer = <CALayer: 0x7f90d2c14ee0>>\n",
       "```\n",
       "<img src=\"images/0x7f90d2cafa50.textField-SHJ6ouFm6y.png?r&#61;SHJ6ouFm6y\" alt=\"0x7f90d2cafa50.textField\" style=\"width:282.0px; height: 30.0px;\" />"
      ],
      "text/plain": [
       "<UITextField: 0x7f90d2cc8170; frame = (13 171; 282 30); text = 'Hello Julia'; clipsToBounds = YES; opaque = NO; autoresize = RM+BM; gestureRecognizers = <NSArray: 0x7f90d2d2d010>; layer = <CALayer: 0x7f90d2c14ee0>>"
      ]
     },
     "execution_count": 6,
     "metadata": {},
     "output_type": "execute_result"
    }
   ],
   "source": [
    "@query vc.textField"
   ]
  },
  {
   "cell_type": "code",
   "execution_count": 7,
   "metadata": {
    "collapsed": false
   },
   "outputs": [
    {
     "data": {
      "text/markdown": [
       "```\n",
       "<UIButton: 0x7f90d2c14c40; frame = (13 238; 99 30); opaque = NO; autoresize = RM+BM; layer = <CALayer: 0x7f90d2ca7400>>\n",
       "```\n",
       "<img src=\"images/0x7f90d2cafa50.button-6lzOLaq19z.png?r&#61;6lzOLaq19z\" alt=\"0x7f90d2cafa50.button\" style=\"width:99.0px; height: 30.0px;\" />"
      ],
      "text/plain": [
       "<UIButton: 0x7f90d2c14c40; frame = (13 238; 99 30); opaque = NO; autoresize = RM+BM; layer = <CALayer: 0x7f90d2ca7400>>"
      ]
     },
     "execution_count": 7,
     "metadata": {},
     "output_type": "execute_result"
    }
   ],
   "source": [
    "@query vc.button"
   ]
  },
  {
   "cell_type": "code",
   "execution_count": 8,
   "metadata": {
    "collapsed": false
   },
   "outputs": [
    {
     "data": {
      "text/markdown": [],
      "text/plain": []
     },
     "execution_count": 8,
     "metadata": {},
     "output_type": "execute_result"
    }
   ],
   "source": [
    "@query vc.button.tap()"
   ]
  },
  {
   "cell_type": "code",
   "execution_count": 9,
   "metadata": {
    "collapsed": false
   },
   "outputs": [
    {
     "data": {
      "text/markdown": [
       "```\n",
       "<UISwitch: 0x7f90d2ccab90; frame = (246 237; 51 31); opaque = NO; autoresize = RM+BM; layer = <CALayer: 0x7f90d2cb9a20>>\n",
       "```\n",
       "<img src=\"images/0x7f90d2cafa50.switch_-Ii1b7Q4kvN.png?r&#61;Ii1b7Q4kvN\" alt=\"0x7f90d2cafa50.switch_\" style=\"width:51.0px; height: 31.0px;\" />"
      ],
      "text/plain": [
       "<UISwitch: 0x7f90d2ccab90; frame = (246 237; 51 31); opaque = NO; autoresize = RM+BM; layer = <CALayer: 0x7f90d2cb9a20>>"
      ]
     },
     "execution_count": 9,
     "metadata": {},
     "output_type": "execute_result"
    }
   ],
   "source": [
    "@query vc.switch_"
   ]
  },
  {
   "cell_type": "code",
   "execution_count": 10,
   "metadata": {
    "collapsed": false
   },
   "outputs": [
    {
     "data": {
      "text/markdown": [],
      "text/plain": []
     },
     "execution_count": 10,
     "metadata": {},
     "output_type": "execute_result"
    }
   ],
   "source": [
    "@query vc.switch_.tap()"
   ]
  },
  {
   "cell_type": "code",
   "execution_count": 11,
   "metadata": {
    "collapsed": false
   },
   "outputs": [
    {
     "data": {
      "text/markdown": [
       "```\n",
       "<UISwitch: 0x7f90d2ccab90; frame = (246 237; 51 31); opaque = NO; autoresize = RM+BM; layer = <CALayer: 0x7f90d2cb9a20>>\n",
       "```\n",
       "<img src=\"images/0x7f90d2cafa50.switch_-5nhRY4I53B.png?r&#61;5nhRY4I53B\" alt=\"0x7f90d2cafa50.switch_\" style=\"width:51.0px; height: 31.0px;\" />"
      ],
      "text/plain": [
       "<UISwitch: 0x7f90d2ccab90; frame = (246 237; 51 31); opaque = NO; autoresize = RM+BM; layer = <CALayer: 0x7f90d2cb9a20>>"
      ]
     },
     "execution_count": 11,
     "metadata": {},
     "output_type": "execute_result"
    }
   ],
   "source": [
    "@query vc.switch_"
   ]
  },
  {
   "cell_type": "code",
   "execution_count": 12,
   "metadata": {
    "collapsed": false
   },
   "outputs": [
    {
     "data": {
      "text/markdown": [
       "```\n",
       "<UISegmentedControl: 0x7f90d2cb8320; frame = (13 316; 282 29); opaque = NO; autoresize = RM+BM; layer = <CALayer: 0x7f90d2cad8c0>>\n",
       "```\n",
       "<img src=\"images/0x7f90d2cafa50.segmentedControl-FDlDajmRkb.png?r&#61;FDlDajmRkb\" alt=\"0x7f90d2cafa50.segmentedControl\" style=\"width:282.0px; height: 29.0px;\" />"
      ],
      "text/plain": [
       "<UISegmentedControl: 0x7f90d2cb8320; frame = (13 316; 282 29); opaque = NO; autoresize = RM+BM; layer = <CALayer: 0x7f90d2cad8c0>>"
      ]
     },
     "execution_count": 12,
     "metadata": {},
     "output_type": "execute_result"
    }
   ],
   "source": [
    "@query vc.segmentedControl"
   ]
  },
  {
   "cell_type": "code",
   "execution_count": 13,
   "metadata": {
    "collapsed": false
   },
   "outputs": [
    {
     "data": {
      "text/markdown": [],
      "text/plain": []
     },
     "execution_count": 13,
     "metadata": {},
     "output_type": "execute_result"
    }
   ],
   "source": [
    "@query vc.segmentedControl.tap(title: \"Second\")"
   ]
  },
  {
   "cell_type": "code",
   "execution_count": 14,
   "metadata": {
    "collapsed": false
   },
   "outputs": [
    {
     "data": {
      "text/markdown": [
       "```\n",
       "<UISegmentedControl: 0x7f90d2cb8320; frame = (13 316; 282 29); opaque = NO; autoresize = RM+BM; layer = <CALayer: 0x7f90d2cad8c0>>\n",
       "```\n",
       "<img src=\"images/0x7f90d2cafa50.segmentedControl-1PPUcFYdSo.png?r&#61;1PPUcFYdSo\" alt=\"0x7f90d2cafa50.segmentedControl\" style=\"width:282.0px; height: 29.0px;\" />"
      ],
      "text/plain": [
       "<UISegmentedControl: 0x7f90d2cb8320; frame = (13 316; 282 29); opaque = NO; autoresize = RM+BM; layer = <CALayer: 0x7f90d2cad8c0>>"
      ]
     },
     "execution_count": 14,
     "metadata": {},
     "output_type": "execute_result"
    }
   ],
   "source": [
    "@query vc.segmentedControl"
   ]
  },
  {
   "cell_type": "code",
   "execution_count": 15,
   "metadata": {
    "collapsed": false
   },
   "outputs": [
    {
     "data": {
      "text/markdown": [],
      "text/plain": []
     },
     "execution_count": 15,
     "metadata": {},
     "output_type": "execute_result"
    }
   ],
   "source": [
    "@query vc.segmentedControl.tap(index: 2)"
   ]
  },
  {
   "cell_type": "code",
   "execution_count": 16,
   "metadata": {
    "collapsed": false
   },
   "outputs": [
    {
     "data": {
      "text/markdown": [
       "```\n",
       "<UISegmentedControl: 0x7f90d2cb8320; frame = (13 316; 282 29); opaque = NO; autoresize = RM+BM; layer = <CALayer: 0x7f90d2cad8c0>>\n",
       "```\n",
       "<img src=\"images/0x7f90d2cafa50.segmentedControl-oUTSYPkUzG.png?r&#61;oUTSYPkUzG\" alt=\"0x7f90d2cafa50.segmentedControl\" style=\"width:282.0px; height: 29.0px;\" />"
      ],
      "text/plain": [
       "<UISegmentedControl: 0x7f90d2cb8320; frame = (13 316; 282 29); opaque = NO; autoresize = RM+BM; layer = <CALayer: 0x7f90d2cad8c0>>"
      ]
     },
     "execution_count": 16,
     "metadata": {},
     "output_type": "execute_result"
    }
   ],
   "source": [
    "@query vc.segmentedControl"
   ]
  },
  {
   "cell_type": "code",
   "execution_count": 17,
   "metadata": {
    "collapsed": false
   },
   "outputs": [
    {
     "data": {
      "text/markdown": [
       "```\n",
       "<UISlider: 0x7f90d2cc7890; frame = (29 377; 268 31); opaque = NO; autoresize = RM+BM; layer = <CALayer: 0x7f90d2cc74f0>; value: 0.500000>\n",
       "```\n",
       "<img src=\"images/0x7f90d2cafa50.slider-xetFBUyqMi.png?r&#61;xetFBUyqMi\" alt=\"0x7f90d2cafa50.slider\" style=\"width:268.0px; height: 31.0px;\" />"
      ],
      "text/plain": [
       "<UISlider: 0x7f90d2cc7890; frame = (29 377; 268 31); opaque = NO; autoresize = RM+BM; layer = <CALayer: 0x7f90d2cc74f0>; value: 0.500000>"
      ]
     },
     "execution_count": 17,
     "metadata": {},
     "output_type": "execute_result"
    }
   ],
   "source": [
    "@query vc.slider"
   ]
  },
  {
   "cell_type": "code",
   "execution_count": 18,
   "metadata": {
    "collapsed": false
   },
   "outputs": [
    {
     "data": {
      "text/markdown": [],
      "text/plain": []
     },
     "execution_count": 18,
     "metadata": {},
     "output_type": "execute_result"
    }
   ],
   "source": [
    "@query vc.slider.tap(value: 1)"
   ]
  },
  {
   "cell_type": "code",
   "execution_count": 19,
   "metadata": {
    "collapsed": false
   },
   "outputs": [
    {
     "data": {
      "text/markdown": [
       "```\n",
       "<UISlider: 0x7f90d2cc7890; frame = (29 377; 268 31); opaque = NO; autoresize = RM+BM; layer = <CALayer: 0x7f90d2cc74f0>; value: 1.000000>\n",
       "```\n",
       "<img src=\"images/0x7f90d2cafa50.slider-OzOnVJByIZ.png?r&#61;OzOnVJByIZ\" alt=\"0x7f90d2cafa50.slider\" style=\"width:268.0px; height: 31.0px;\" />"
      ],
      "text/plain": [
       "<UISlider: 0x7f90d2cc7890; frame = (29 377; 268 31); opaque = NO; autoresize = RM+BM; layer = <CALayer: 0x7f90d2cc74f0>; value: 1.000000>"
      ]
     },
     "execution_count": 19,
     "metadata": {},
     "output_type": "execute_result"
    }
   ],
   "source": [
    "@query vc.slider"
   ]
  },
  {
   "cell_type": "code",
   "execution_count": 20,
   "metadata": {
    "collapsed": false
   },
   "outputs": [
    {
     "data": {
      "text/markdown": [
       "```\n",
       "<UIProgressView: 0x7f90d2d33ed0; frame = (31 444; 264 2); opaque = NO; autoresize = RM+BM; layer = <CALayer: 0x7f90d2d34350>>\n",
       "```\n",
       "<img src=\"images/0x7f90d2cafa50.progressView-9Q305W7RQb.png?r&#61;9Q305W7RQb\" alt=\"0x7f90d2cafa50.progressView\" style=\"width:264.0px; height: 2.0px;\" />"
      ],
      "text/plain": [
       "<UIProgressView: 0x7f90d2d33ed0; frame = (31 444; 264 2); opaque = NO; autoresize = RM+BM; layer = <CALayer: 0x7f90d2d34350>>"
      ]
     },
     "execution_count": 20,
     "metadata": {},
     "output_type": "execute_result"
    }
   ],
   "source": [
    "@query vc.progressView"
   ]
  },
  {
   "cell_type": "code",
   "execution_count": 22,
   "metadata": {
    "collapsed": false
   },
   "outputs": [
    {
     "data": {
      "text/markdown": [],
      "text/plain": []
     },
     "execution_count": 22,
     "metadata": {},
     "output_type": "execute_result"
    }
   ],
   "source": [
    "@query vc.progressView.setProgress(1, animated: true)"
   ]
  },
  {
   "cell_type": "code",
   "execution_count": 23,
   "metadata": {
    "collapsed": false
   },
   "outputs": [
    {
     "data": {
      "text/markdown": [
       "```\n",
       "<UIProgressView: 0x7f90d2d33ed0; frame = (31 444; 264 2); opaque = NO; autoresize = RM+BM; layer = <CALayer: 0x7f90d2d34350>>\n",
       "```\n",
       "<img src=\"images/0x7f90d2cafa50.progressView-qqOY3iDFmA.png?r&#61;qqOY3iDFmA\" alt=\"0x7f90d2cafa50.progressView\" style=\"width:264.0px; height: 2.0px;\" />"
      ],
      "text/plain": [
       "<UIProgressView: 0x7f90d2d33ed0; frame = (31 444; 264 2); opaque = NO; autoresize = RM+BM; layer = <CALayer: 0x7f90d2d34350>>"
      ]
     },
     "execution_count": 23,
     "metadata": {},
     "output_type": "execute_result"
    }
   ],
   "source": [
    "@query vc.progressView"
   ]
  },
  {
   "cell_type": "code",
   "execution_count": 24,
   "metadata": {
    "collapsed": false
   },
   "outputs": [
    {
     "data": {
      "text/markdown": [
       "  * &lt;UILabel: 0x7f90d2d33300; frame &#61; &#40;13 89; 282 57&#41;; text &#61; &#39;Label&#39;; opaque &#61; NO; autoresize &#61; RM&#43;BM; userInteractionEnabled &#61; NO; layer &#61; &lt;_UILabelLayer: 0x7f90d2d336b0&gt;&gt;\n",
       "  * &lt;UIButton: 0x7f90d2c14c40; frame &#61; &#40;13 238; 99 30&#41;; opaque &#61; NO; autoresize &#61; RM&#43;BM; layer &#61; &lt;CALayer: 0x7f90d2ca7400&gt;&gt;\n",
       "  * &lt;UITextField: 0x7f90d2cc8170; frame &#61; &#40;13 171; 282 30&#41;; text &#61; &#39;Hello Julia&#39;; clipsToBounds &#61; YES; opaque &#61; NO; autoresize &#61; RM&#43;BM; gestureRecognizers &#61; &lt;NSArray: 0x7f90d2d2d010&gt;; layer &#61; &lt;CALayer: 0x7f90d2c14ee0&gt;&gt;\n",
       "  * &lt;UISlider: 0x7f90d2cc7890; frame &#61; &#40;29 377; 268 31&#41;; opaque &#61; NO; autoresize &#61; RM&#43;BM; layer &#61; &lt;CALayer: 0x7f90d2cc74f0&gt;; value: 1.000000&gt;\n",
       "  * &lt;UIProgressView: 0x7f90d2d33ed0; frame &#61; &#40;31 444; 264 2&#41;; opaque &#61; NO; autoresize &#61; RM&#43;BM; layer &#61; &lt;CALayer: 0x7f90d2d34350&gt;&gt;\n",
       "  * &lt;UISegmentedControl: 0x7f90d2cb8320; frame &#61; &#40;13 316; 282 29&#41;; opaque &#61; NO; autoresize &#61; RM&#43;BM; layer &#61; &lt;CALayer: 0x7f90d2cad8c0&gt;&gt;\n",
       "  * &lt;UISwitch: 0x7f90d2ccab90; frame &#61; &#40;246 237; 51 31&#41;; opaque &#61; NO; autoresize &#61; RM&#43;BM; layer &#61; &lt;CALayer: 0x7f90d2cb9a20&gt;&gt;\n",
       "  * &lt;_UILayoutGuide: 0x7f90d2d36b20; frame &#61; &#40;0 0; 0 20&#41;; hidden &#61; YES; layer &#61; &lt;CALayer: 0x7f90d2d36d00&gt;&gt;\n",
       "  * &lt;_UILayoutGuide: 0x7f90d2d387a0; frame &#61; &#40;0 568; 0 0&#41;; hidden &#61; YES; layer &#61; &lt;CALayer: 0x7f90d2d38930&gt;&gt;\n"
      ],
      "text/plain": [
       "0\u001b[0m <UILabel: 0x7f90d2d33300; frame = (13 89; 282 57); text = 'Label'; opaque = NO; autoresize = RM+BM; userInteractionEnabled = NO; layer = <_UILabelLayer: 0x7f90d2d336b0>>\n",
       "1\u001b[0m <UIButton: 0x7f90d2c14c40; frame = (13 238; 99 30); opaque = NO; autoresize = RM+BM; layer = <CALayer: 0x7f90d2ca7400>>\n",
       "2\u001b[0m <UITextField: 0x7f90d2cc8170; frame = (13 171; 282 30); text = 'Hello Julia'; clipsToBounds = YES; opaque = NO; autoresize = RM+BM; gestureRecognizers = <NSArray: 0x7f90d2d2d010>; layer = <CALayer: 0x7f90d2c14ee0>>\n",
       "3\u001b[0m <UISlider: 0x7f90d2cc7890; frame = (29 377; 268 31); opaque = NO; autoresize = RM+BM; layer = <CALayer: 0x7f90d2cc74f0>; value: 1.000000>\n",
       "4\u001b[0m <UIProgressView: 0x7f90d2d33ed0; frame = (31 444; 264 2); opaque = NO; autoresize = RM+BM; layer = <CALayer: 0x7f90d2d34350>>\n",
       "5\u001b[0m <UISegmentedControl: 0x7f90d2cb8320; frame = (13 316; 282 29); opaque = NO; autoresize = RM+BM; layer = <CALayer: 0x7f90d2cad8c0>>\n",
       "6\u001b[0m <UISwitch: 0x7f90d2ccab90; frame = (246 237; 51 31); opaque = NO; autoresize = RM+BM; layer = <CALayer: 0x7f90d2cb9a20>>\n",
       "7\u001b[0m <_UILayoutGuide: 0x7f90d2d36b20; frame = (0 0; 0 20); hidden = YES; layer = <CALayer: 0x7f90d2d36d00>>\n",
       "8\u001b[0m <_UILayoutGuide: 0x7f90d2d387a0; frame = (0 568; 0 0); hidden = YES; layer = <CALayer: 0x7f90d2d38930>>"
      ]
     },
     "execution_count": 24,
     "metadata": {},
     "output_type": "execute_result"
    }
   ],
   "source": [
    "@query vc.view.subviews"
   ]
  },
  {
   "cell_type": "code",
   "execution_count": 25,
   "metadata": {
    "collapsed": false
   },
   "outputs": [
    {
     "data": {
      "text/plain": [
       "false"
      ]
     },
     "execution_count": 25,
     "metadata": {},
     "output_type": "execute_result"
    }
   ],
   "source": [
    "ENV[\"SWIFTER_SAVE_IMAGE\"] = false"
   ]
  }
 ],
 "metadata": {
  "kernelspec": {
   "display_name": "Julia 0.4.5",
   "language": "julia",
   "name": "julia-0.4"
  },
  "language_info": {
   "file_extension": ".jl",
   "mimetype": "application/julia",
   "name": "julia",
   "version": "0.4.5"
  }
 },
 "nbformat": 4,
 "nbformat_minor": 0
}
