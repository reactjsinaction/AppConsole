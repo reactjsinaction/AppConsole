{
 "cells": [
  {
   "cell_type": "markdown",
   "metadata": {},
   "source": [
    "# How To Use Swifter.jl and AppConsole\n",
    "\n",
    "* https://github.com/wookay/Swifter.jl\n",
    "\n",
    "* https://github.com/wookay/AppConsole"
   ]
  },
  {
   "cell_type": "markdown",
   "metadata": {},
   "source": [
    "# 1. AppConsole\n",
    "\n",
    "* It's an RPC Server written in Swift\n",
    "\n",
    "## Demo project\n",
    "\n",
    "* Install prerequisites using [CocoaPods](https://cocoapods.org).\n",
    "```\n",
    "AppConsole/Demo/ViewController $ pod install\n",
    "```"
   ]
  },
  {
   "cell_type": "markdown",
   "metadata": {},
   "source": [
    "## Running the sample workspace on Xcode\n",
    "\n",
    "* Open and run AppConsole/Demo/ViewController/ViewController.xcworkspace\n",
    "\n",
    "```swift\n",
    "// part of ViewController.swift\n",
    "class ViewController: UIViewController {\n",
    "    @IBOutlet var label: UILabel!\n",
    "    \n",
    "    override func viewDidLoad() {\n",
    "        super.viewDidLoad()\n",
    "        // Do any additional setup after loading the view, typically from a nib.\n",
    "        \n",
    "        label.text = AppConsole(initial: self).run()\n",
    "    }\n",
    "\n",
    "    ...\n",
    "```"
   ]
  },
  {
   "cell_type": "markdown",
   "metadata": {},
   "source": [
    "* When running the project successfully, could get the output like this.\n",
    "```\n",
    "AppConsole.swift #28 run AppConsole Server has started on http://localhost:8080\n",
    "```"
   ]
  },
  {
   "cell_type": "markdown",
   "metadata": {},
   "source": [
    "# 2. Swifter.jl\n",
    "\n",
    "* It's an RPC Client written in Julia"
   ]
  },
  {
   "cell_type": "markdown",
   "metadata": {},
   "source": [
    "## Install Julia\n",
    "\n",
    "* Download the Julia (0.4.5) and run http://julialang.org/downloads/"
   ]
  },
  {
   "cell_type": "markdown",
   "metadata": {},
   "source": [
    "```\n",
    "               _\n",
    "   _       _ _(_)_     |  A fresh approach to technical computing\n",
    "  (_)     | (_) (_)    |  Documentation: http://docs.julialang.org\n",
    "   _ _   _| |_  __ _   |  Type \"?help\" for help.\n",
    "  | | | | | | |/ _` |  |\n",
    "  | | |_| | | | (_| |  |  Version 0.4.5 (2016-03-18 00:58 UTC)\n",
    " _/ |\\__'_|_|_|\\__'_|  |  Official http://julialang.org/ release\n",
    "|__/                   |  x86_64-apple-darwin13.4.0\n",
    "\n",
    "julia> \n",
    "```"
   ]
  },
  {
   "cell_type": "markdown",
   "metadata": {},
   "source": [
    "## Install Swifter.jl"
   ]
  },
  {
   "cell_type": "markdown",
   "metadata": {},
   "source": [
    "```\n",
    "julia> Pkg.add(\"Swifter\")\n",
    "```"
   ]
  },
  {
   "cell_type": "markdown",
   "metadata": {},
   "source": [
    "## Initial"
   ]
  },
  {
   "cell_type": "markdown",
   "metadata": {},
   "source": [
    "* Inital connect to the endpoint."
   ]
  },
  {
   "cell_type": "markdown",
   "metadata": {},
   "source": [
    "```\n",
    "julia> using Swifter\n",
    "\n",
    "julia> vc = initial(\"http://localhost:8080\")\n",
    "<ViewController.ViewController: 0x7f8dda71e4a0>\n",
    "```"
   ]
  },
  {
   "cell_type": "markdown",
   "metadata": {},
   "source": [
    "## Query"
   ]
  },
  {
   "cell_type": "markdown",
   "metadata": {},
   "source": [
    "* Query getter, setter expressions using @query macro."
   ]
  },
  {
   "cell_type": "markdown",
   "metadata": {},
   "source": [
    "```\n",
    "julia> @query vc.view\n",
    "<UIView: 0x7f8dda68fde0; frame = (0 0; 320 568); autoresize = W+H; layer = <CALayer: 0x7f8dda690160>>\n",
    "```"
   ]
  },
  {
   "cell_type": "markdown",
   "metadata": {},
   "source": [
    "* Query mode (> key) for REPL\n",
    "\n",
    "```\n",
    "julia> @query vc.view\n",
    "<UIView: 0x7f8dda68fde0; frame = (0 0; 320 568); autoresize = W+H; layer = <CALayer: 0x7f8dda690160>>\n",
    "\n",
    "Swifter> vc.view\n",
    "<UIView: 0x7f8dda68fde0; frame = (0 0; 320 568); autoresize = W+H; layer = <CALayer: 0x7f8dda690160>>\n",
    "```"
   ]
  },
  {
   "cell_type": "markdown",
   "metadata": {},
   "source": [
    "## IJulia"
   ]
  },
  {
   "cell_type": "markdown",
   "metadata": {},
   "source": [
    "* Swifter.jl supports [Jupyter](http://jupyter.org) mime types."
   ]
  },
  {
   "cell_type": "markdown",
   "metadata": {},
   "source": [
    "* To run the Jupyter interactive environment, install IJulia.\n",
    "```\n",
    "julia> Pkg.add(\"IJulia\")\n",
    "julia> using IJulia\n",
    "julia> notebook()\n",
    "```"
   ]
  },
  {
   "cell_type": "code",
   "execution_count": 3,
   "metadata": {
    "collapsed": false
   },
   "outputs": [
    {
     "data": {
      "text/markdown": [
       "```\n",
       "<UIView: 0x7fbbca4b0220; frame = (0 0; 320 568); autoresize = W+H; layer = <CALayer: 0x7fbbca4009c0>>\n",
       "```\n",
       "<img src=\"images/0x7fbbca52dc80.view-KuxWlik0gj.png?r&#61;KuxWlik0gj\" alt=\"0x7fbbca52dc80.view\" style=\"width:160.0px; height: 284.0px;\" />"
      ],
      "text/plain": [
       "<UIView: 0x7fbbca4b0220; frame = (0 0; 320 568); autoresize = W+H; layer = <CALayer: 0x7fbbca4009c0>>"
      ]
     },
     "execution_count": 3,
     "metadata": {},
     "output_type": "execute_result"
    }
   ],
   "source": [
    "using Swifter\n",
    "\n",
    "vc = initial(\"http://localhost:8080\")\n",
    "\n",
    "@query vc.label.text = \"Hello World\"\n",
    "@query vc.view"
   ]
  },
  {
   "cell_type": "markdown",
   "metadata": {},
   "source": [
    "## More examples\n",
    " - [UIControls.ipynb](https://github.com/wookay/AppConsole/blob/master/notebooks/UIControls.ipynb)\n",
    " - [MultipleDevices.ipynb](https://github.com/wookay/AppConsole/blob/master/notebooks/MultipleDevices.ipynb)\n",
    " - [TableViewController.ipynb](https://github.com/wookay/AppConsole/blob/master/notebooks/TableViewController.ipynb)\n",
    " - [ViewController.ipynb](https://github.com/wookay/AppConsole/blob/master/notebooks/ViewController.ipynb)"
   ]
  }
 ],
 "metadata": {
  "kernelspec": {
   "display_name": "Julia 0.4.5",
   "language": "julia",
   "name": "julia-0.4"
  },
  "language_info": {
   "file_extension": ".jl",
   "mimetype": "application/julia",
   "name": "julia",
   "version": "0.4.5"
  }
 },
 "nbformat": 4,
 "nbformat_minor": 0
}
