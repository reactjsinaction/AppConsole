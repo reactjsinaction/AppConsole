{
 "cells": [
  {
   "cell_type": "markdown",
   "metadata": {},
   "source": [
    "# UIControls example\n",
    "\n",
    "### iOS REPL with Swifter.jl + AppConsole\n",
    "\n",
    "* https://github.com/wookay/Swifter.jl\n",
    "\n",
    "* https://github.com/wookay/AppConsole"
   ]
  },
  {
   "cell_type": "markdown",
   "metadata": {},
   "source": [
    "* open Demo/UIControls/UIControls.xcworkspace\n",
    "* Run"
   ]
  },
  {
   "cell_type": "code",
   "execution_count": 1,
   "metadata": {
    "collapsed": true
   },
   "outputs": [],
   "source": [
    "using Swifter"
   ]
  },
  {
   "cell_type": "code",
   "execution_count": 2,
   "metadata": {
    "collapsed": false
   },
   "outputs": [
    {
     "data": {
      "text/markdown": [
       "```\n",
       "<UIControls.AppDelegate: 0x7fe839f03850>\n",
       "```\n"
      ],
      "text/plain": [
       "<UIControls.AppDelegate: 0x7fe839f03850>"
      ]
     },
     "execution_count": 2,
     "metadata": {},
     "output_type": "execute_result"
    }
   ],
   "source": [
    "app = initial(\"http://localhost:8080\")"
   ]
  },
  {
   "cell_type": "code",
   "execution_count": 3,
   "metadata": {
    "collapsed": false
   },
   "outputs": [
    {
     "data": {
      "text/markdown": [
       "```\n",
       "<UIControls.ViewController: 0x7fe839d95600>\n",
       "```\n"
      ],
      "text/plain": [
       "<UIControls.ViewController: 0x7fe839d95600>"
      ]
     },
     "execution_count": 3,
     "metadata": {},
     "output_type": "execute_result"
    }
   ],
   "source": [
    "vc = @query app.window.rootViewController"
   ]
  },
  {
   "cell_type": "code",
   "execution_count": 5,
   "metadata": {
    "collapsed": false
   },
   "outputs": [
    {
     "data": {
      "text/markdown": [
       "```\n",
       "<UIView: 0x7fe839c520b0; frame = (0 0; 320 568); autoresize = W+H; layer = <CALayer: 0x7fe839c51ba0>>\n",
       "```\n",
       "<img src=\"images/0x7fe839d95600.view-IiGQ9jF2aH.png?r&#61;IiGQ9jF2aH\" alt=\"0x7fe839d95600.view\" style=\"width:160.0px; height: 284.0px;\" />"
      ],
      "text/plain": [
       "<UIView: 0x7fe839c520b0; frame = (0 0; 320 568); autoresize = W+H; layer = <CALayer: 0x7fe839c51ba0>>"
      ]
     },
     "execution_count": 5,
     "metadata": {},
     "output_type": "execute_result"
    }
   ],
   "source": [
    "@query vc.view"
   ]
  },
  {
   "cell_type": "code",
   "execution_count": 6,
   "metadata": {
    "collapsed": false
   },
   "outputs": [
    {
     "data": {
      "text/markdown": [
       "```\n",
       "Hello Julia\n",
       "```\n"
      ],
      "text/plain": [
       "\"Hello Julia\""
      ]
     },
     "execution_count": 6,
     "metadata": {},
     "output_type": "execute_result"
    }
   ],
   "source": [
    "@query vc.textField.text = \"Hello Julia\""
   ]
  },
  {
   "cell_type": "code",
   "execution_count": 7,
   "metadata": {
    "collapsed": false
   },
   "outputs": [
    {
     "data": {
      "text/markdown": [
       "```\n",
       "<UITextField: 0x7fe839da79e0; frame = (13 171; 282 30); text = 'Hello Julia'; clipsToBounds = YES; opaque = NO; autoresize = RM+BM; gestureRecognizers = <NSArray: 0x7fe839c497e0>; layer = <CALayer: 0x7fe839d9b7a0>>\n",
       "```\n",
       "<img src=\"images/0x7fe839d95600.textField-1Z6MWHdZTp.png?r&#61;1Z6MWHdZTp\" alt=\"0x7fe839d95600.textField\" style=\"width:282.0px; height: 30.0px;\" />"
      ],
      "text/plain": [
       "<UITextField: 0x7fe839da79e0; frame = (13 171; 282 30); text = 'Hello Julia'; clipsToBounds = YES; opaque = NO; autoresize = RM+BM; gestureRecognizers = <NSArray: 0x7fe839c497e0>; layer = <CALayer: 0x7fe839d9b7a0>>"
      ]
     },
     "execution_count": 7,
     "metadata": {},
     "output_type": "execute_result"
    }
   ],
   "source": [
    "@query vc.textField"
   ]
  },
  {
   "cell_type": "code",
   "execution_count": 8,
   "metadata": {
    "collapsed": false
   },
   "outputs": [
    {
     "data": {
      "text/markdown": [
       "```\n",
       "<UIButton: 0x7fe839d9c090; frame = (13 238; 99 30); opaque = NO; autoresize = RM+BM; layer = <CALayer: 0x7fe839d9c600>>\n",
       "```\n",
       "<img src=\"images/0x7fe839d95600.button-JU9GykufP0.png?r&#61;JU9GykufP0\" alt=\"0x7fe839d95600.button\" style=\"width:99.0px; height: 30.0px;\" />"
      ],
      "text/plain": [
       "<UIButton: 0x7fe839d9c090; frame = (13 238; 99 30); opaque = NO; autoresize = RM+BM; layer = <CALayer: 0x7fe839d9c600>>"
      ]
     },
     "execution_count": 8,
     "metadata": {},
     "output_type": "execute_result"
    }
   ],
   "source": [
    "@query vc.button"
   ]
  },
  {
   "cell_type": "code",
   "execution_count": 9,
   "metadata": {
    "collapsed": false
   },
   "outputs": [
    {
     "data": {
      "text/markdown": [],
      "text/plain": []
     },
     "execution_count": 9,
     "metadata": {},
     "output_type": "execute_result"
    }
   ],
   "source": [
    "@query vc.button.tap()"
   ]
  },
  {
   "cell_type": "code",
   "execution_count": 10,
   "metadata": {
    "collapsed": false
   },
   "outputs": [
    {
     "data": {
      "text/markdown": [
       "```\n",
       "<UISwitch: 0x7fe839da9ff0; frame = (246 237; 51 31); opaque = NO; autoresize = RM+BM; layer = <CALayer: 0x7fe839da2ca0>>\n",
       "```\n",
       "<img src=\"images/0x7fe839d95600.switch_-sLg2BiAZ6l.png?r&#61;sLg2BiAZ6l\" alt=\"0x7fe839d95600.switch_\" style=\"width:51.0px; height: 31.0px;\" />"
      ],
      "text/plain": [
       "<UISwitch: 0x7fe839da9ff0; frame = (246 237; 51 31); opaque = NO; autoresize = RM+BM; layer = <CALayer: 0x7fe839da2ca0>>"
      ]
     },
     "execution_count": 10,
     "metadata": {},
     "output_type": "execute_result"
    }
   ],
   "source": [
    "@query vc.switch_"
   ]
  },
  {
   "cell_type": "code",
   "execution_count": 11,
   "metadata": {
    "collapsed": false
   },
   "outputs": [
    {
     "data": {
      "text/markdown": [],
      "text/plain": []
     },
     "execution_count": 11,
     "metadata": {},
     "output_type": "execute_result"
    }
   ],
   "source": [
    "@query vc.switch_.tap()"
   ]
  },
  {
   "cell_type": "code",
   "execution_count": 12,
   "metadata": {
    "collapsed": false
   },
   "outputs": [
    {
     "data": {
      "text/markdown": [
       "```\n",
       "<UISwitch: 0x7fe839da9ff0; frame = (246 237; 51 31); opaque = NO; autoresize = RM+BM; layer = <CALayer: 0x7fe839da2ca0>>\n",
       "```\n",
       "<img src=\"images/0x7fe839d95600.switch_-q3PYEjgbC8.png?r&#61;q3PYEjgbC8\" alt=\"0x7fe839d95600.switch_\" style=\"width:51.0px; height: 31.0px;\" />"
      ],
      "text/plain": [
       "<UISwitch: 0x7fe839da9ff0; frame = (246 237; 51 31); opaque = NO; autoresize = RM+BM; layer = <CALayer: 0x7fe839da2ca0>>"
      ]
     },
     "execution_count": 12,
     "metadata": {},
     "output_type": "execute_result"
    }
   ],
   "source": [
    "@query vc.switch_"
   ]
  },
  {
   "cell_type": "code",
   "execution_count": 13,
   "metadata": {
    "collapsed": false
   },
   "outputs": [
    {
     "data": {
      "text/markdown": [
       "```\n",
       "<UISegmentedControl: 0x7fe839d9d890; frame = (13 316; 282 29); opaque = NO; autoresize = RM+BM; layer = <CALayer: 0x7fe839d9b1e0>>\n",
       "```\n",
       "<img src=\"images/0x7fe839d95600.segmentedControl-7kfZYc5uO3.png?r&#61;7kfZYc5uO3\" alt=\"0x7fe839d95600.segmentedControl\" style=\"width:282.0px; height: 29.0px;\" />"
      ],
      "text/plain": [
       "<UISegmentedControl: 0x7fe839d9d890; frame = (13 316; 282 29); opaque = NO; autoresize = RM+BM; layer = <CALayer: 0x7fe839d9b1e0>>"
      ]
     },
     "execution_count": 13,
     "metadata": {},
     "output_type": "execute_result"
    }
   ],
   "source": [
    "@query vc.segmentedControl"
   ]
  },
  {
   "cell_type": "code",
   "execution_count": 14,
   "metadata": {
    "collapsed": false
   },
   "outputs": [
    {
     "data": {
      "text/markdown": [],
      "text/plain": []
     },
     "execution_count": 14,
     "metadata": {},
     "output_type": "execute_result"
    }
   ],
   "source": [
    "@query vc.segmentedControl.tap(index: 2)"
   ]
  },
  {
   "cell_type": "code",
   "execution_count": 15,
   "metadata": {
    "collapsed": false
   },
   "outputs": [
    {
     "data": {
      "text/markdown": [
       "```\n",
       "<UISegmentedControl: 0x7fe839d9d890; frame = (13 316; 282 29); opaque = NO; autoresize = RM+BM; layer = <CALayer: 0x7fe839d9b1e0>>\n",
       "```\n",
       "<img src=\"images/0x7fe839d95600.segmentedControl-1Cb3S3T5q9.png?r&#61;1Cb3S3T5q9\" alt=\"0x7fe839d95600.segmentedControl\" style=\"width:282.0px; height: 29.0px;\" />"
      ],
      "text/plain": [
       "<UISegmentedControl: 0x7fe839d9d890; frame = (13 316; 282 29); opaque = NO; autoresize = RM+BM; layer = <CALayer: 0x7fe839d9b1e0>>"
      ]
     },
     "execution_count": 15,
     "metadata": {},
     "output_type": "execute_result"
    }
   ],
   "source": [
    "@query vc.segmentedControl"
   ]
  },
  {
   "cell_type": "code",
   "execution_count": 16,
   "metadata": {
    "collapsed": false
   },
   "outputs": [
    {
     "data": {
      "text/markdown": [],
      "text/plain": []
     },
     "execution_count": 16,
     "metadata": {},
     "output_type": "execute_result"
    }
   ],
   "source": [
    "@query vc.segmentedControl.tap(title: \"Second\")"
   ]
  },
  {
   "cell_type": "code",
   "execution_count": 17,
   "metadata": {
    "collapsed": false
   },
   "outputs": [
    {
     "data": {
      "text/markdown": [
       "```\n",
       "<UISegmentedControl: 0x7fe839d9d890; frame = (13 316; 282 29); opaque = NO; autoresize = RM+BM; layer = <CALayer: 0x7fe839d9b1e0>>\n",
       "```\n",
       "<img src=\"images/0x7fe839d95600.segmentedControl-P4T9cTTivs.png?r&#61;P4T9cTTivs\" alt=\"0x7fe839d95600.segmentedControl\" style=\"width:282.0px; height: 29.0px;\" />"
      ],
      "text/plain": [
       "<UISegmentedControl: 0x7fe839d9d890; frame = (13 316; 282 29); opaque = NO; autoresize = RM+BM; layer = <CALayer: 0x7fe839d9b1e0>>"
      ]
     },
     "execution_count": 17,
     "metadata": {},
     "output_type": "execute_result"
    }
   ],
   "source": [
    "@query vc.segmentedControl"
   ]
  },
  {
   "cell_type": "code",
   "execution_count": 18,
   "metadata": {
    "collapsed": false
   },
   "outputs": [
    {
     "data": {
      "text/markdown": [
       "```\n",
       "<UISlider: 0x7fe839c41ca0; frame = (29 377; 268 31); opaque = NO; autoresize = RM+BM; layer = <CALayer: 0x7fe839c42820>; value: 0.500000>\n",
       "```\n",
       "<img src=\"images/0x7fe839d95600.slider-fkXfeMWCE3.png?r&#61;fkXfeMWCE3\" alt=\"0x7fe839d95600.slider\" style=\"width:268.0px; height: 31.0px;\" />"
      ],
      "text/plain": [
       "<UISlider: 0x7fe839c41ca0; frame = (29 377; 268 31); opaque = NO; autoresize = RM+BM; layer = <CALayer: 0x7fe839c42820>; value: 0.500000>"
      ]
     },
     "execution_count": 18,
     "metadata": {},
     "output_type": "execute_result"
    }
   ],
   "source": [
    "@query vc.slider"
   ]
  },
  {
   "cell_type": "code",
   "execution_count": 19,
   "metadata": {
    "collapsed": false
   },
   "outputs": [
    {
     "data": {
      "text/markdown": [],
      "text/plain": []
     },
     "execution_count": 19,
     "metadata": {},
     "output_type": "execute_result"
    }
   ],
   "source": [
    "@query vc.slider.tap(value: 1)"
   ]
  },
  {
   "cell_type": "code",
   "execution_count": 20,
   "metadata": {
    "collapsed": false
   },
   "outputs": [
    {
     "data": {
      "text/markdown": [
       "```\n",
       "<UISlider: 0x7fe839c41ca0; frame = (29 377; 268 31); opaque = NO; autoresize = RM+BM; layer = <CALayer: 0x7fe839c42820>; value: 1.000000>\n",
       "```\n",
       "<img src=\"images/0x7fe839d95600.slider-t93aDR0igx.png?r&#61;t93aDR0igx\" alt=\"0x7fe839d95600.slider\" style=\"width:268.0px; height: 31.0px;\" />"
      ],
      "text/plain": [
       "<UISlider: 0x7fe839c41ca0; frame = (29 377; 268 31); opaque = NO; autoresize = RM+BM; layer = <CALayer: 0x7fe839c42820>; value: 1.000000>"
      ]
     },
     "execution_count": 20,
     "metadata": {},
     "output_type": "execute_result"
    }
   ],
   "source": [
    "@query vc.slider"
   ]
  },
  {
   "cell_type": "code",
   "execution_count": 21,
   "metadata": {
    "collapsed": false
   },
   "outputs": [
    {
     "data": {
      "text/markdown": [
       "```\n",
       "<UIProgressView: 0x7fe839c4f4d0; frame = (31 444; 264 2); opaque = NO; autoresize = RM+BM; layer = <CALayer: 0x7fe839c4f950>>\n",
       "```\n",
       "<img src=\"images/0x7fe839d95600.progressView-LCEHVmGb2z.png?r&#61;LCEHVmGb2z\" alt=\"0x7fe839d95600.progressView\" style=\"width:264.0px; height: 2.0px;\" />"
      ],
      "text/plain": [
       "<UIProgressView: 0x7fe839c4f4d0; frame = (31 444; 264 2); opaque = NO; autoresize = RM+BM; layer = <CALayer: 0x7fe839c4f950>>"
      ]
     },
     "execution_count": 21,
     "metadata": {},
     "output_type": "execute_result"
    }
   ],
   "source": [
    "@query vc.progressView"
   ]
  },
  {
   "cell_type": "code",
   "execution_count": 22,
   "metadata": {
    "collapsed": false
   },
   "outputs": [
    {
     "data": {
      "text/markdown": [],
      "text/plain": []
     },
     "execution_count": 22,
     "metadata": {},
     "output_type": "execute_result"
    }
   ],
   "source": [
    "@query vc.progressView.progress = 1"
   ]
  },
  {
   "cell_type": "code",
   "execution_count": 23,
   "metadata": {
    "collapsed": false
   },
   "outputs": [
    {
     "data": {
      "text/markdown": [
       "```\n",
       "<UIProgressView: 0x7fe839c4f4d0; frame = (31 444; 264 2); opaque = NO; autoresize = RM+BM; layer = <CALayer: 0x7fe839c4f950>>\n",
       "```\n",
       "<img src=\"images/0x7fe839d95600.progressView-8bBYUe2qUE.png?r&#61;8bBYUe2qUE\" alt=\"0x7fe839d95600.progressView\" style=\"width:264.0px; height: 2.0px;\" />"
      ],
      "text/plain": [
       "<UIProgressView: 0x7fe839c4f4d0; frame = (31 444; 264 2); opaque = NO; autoresize = RM+BM; layer = <CALayer: 0x7fe839c4f950>>"
      ]
     },
     "execution_count": 23,
     "metadata": {},
     "output_type": "execute_result"
    }
   ],
   "source": [
    "@query vc.progressView"
   ]
  },
  {
   "cell_type": "code",
   "execution_count": 24,
   "metadata": {
    "collapsed": false
   },
   "outputs": [
    {
     "data": {
      "text/markdown": [
       "  * &lt;UILabel: 0x7fe839c4e700; frame &#61; &#40;13 89; 282 57&#41;; text &#61; &#39;Label&#39;; opaque &#61; NO; autoresize &#61; RM&#43;BM; userInteractionEnabled &#61; NO; layer &#61; &lt;_UILabelLayer: 0x7fe839c4eab0&gt;&gt;\n",
       "  * &lt;UIButton: 0x7fe839d9c090; frame &#61; &#40;13 238; 99 30&#41;; opaque &#61; NO; autoresize &#61; RM&#43;BM; layer &#61; &lt;CALayer: 0x7fe839d9c600&gt;&gt;\n",
       "  * &lt;UITextField: 0x7fe839da79e0; frame &#61; &#40;13 171; 282 30&#41;; text &#61; &#39;Hello Julia&#39;; clipsToBounds &#61; YES; opaque &#61; NO; autoresize &#61; RM&#43;BM; gestureRecognizers &#61; &lt;NSArray: 0x7fe839c497e0&gt;; layer &#61; &lt;CALayer: 0x7fe839d9b7a0&gt;&gt;\n",
       "  * &lt;UISlider: 0x7fe839c41ca0; frame &#61; &#40;29 377; 268 31&#41;; opaque &#61; NO; autoresize &#61; RM&#43;BM; layer &#61; &lt;CALayer: 0x7fe839c42820&gt;; value: 1.000000&gt;\n",
       "  * &lt;UIProgressView: 0x7fe839c4f4d0; frame &#61; &#40;31 444; 264 2&#41;; opaque &#61; NO; autoresize &#61; RM&#43;BM; layer &#61; &lt;CALayer: 0x7fe839c4f950&gt;&gt;\n",
       "  * &lt;UISegmentedControl: 0x7fe839d9d890; frame &#61; &#40;13 316; 282 29&#41;; opaque &#61; NO; autoresize &#61; RM&#43;BM; layer &#61; &lt;CALayer: 0x7fe839d9b1e0&gt;&gt;\n",
       "  * &lt;UISwitch: 0x7fe839da9ff0; frame &#61; &#40;246 237; 51 31&#41;; opaque &#61; NO; autoresize &#61; RM&#43;BM; layer &#61; &lt;CALayer: 0x7fe839da2ca0&gt;&gt;\n",
       "  * &lt;_UILayoutGuide: 0x7fe839c53f70; frame &#61; &#40;0 0; 0 20&#41;; hidden &#61; YES; layer &#61; &lt;CALayer: 0x7fe839c53ac0&gt;&gt;\n",
       "  * &lt;_UILayoutGuide: 0x7fe839c532e0; frame &#61; &#40;0 568; 0 0&#41;; hidden &#61; YES; layer &#61; &lt;CALayer: 0x7fe839c52860&gt;&gt;\n"
      ],
      "text/plain": [
       "0\u001b[0m <UILabel: 0x7fe839c4e700; frame = (13 89; 282 57); text = 'Label'; opaque = NO; autoresize = RM+BM; userInteractionEnabled = NO; layer = <_UILabelLayer: 0x7fe839c4eab0>>\n",
       "1\u001b[0m <UIButton: 0x7fe839d9c090; frame = (13 238; 99 30); opaque = NO; autoresize = RM+BM; layer = <CALayer: 0x7fe839d9c600>>\n",
       "2\u001b[0m <UITextField: 0x7fe839da79e0; frame = (13 171; 282 30); text = 'Hello Julia'; clipsToBounds = YES; opaque = NO; autoresize = RM+BM; gestureRecognizers = <NSArray: 0x7fe839c497e0>; layer = <CALayer: 0x7fe839d9b7a0>>\n",
       "3\u001b[0m <UISlider: 0x7fe839c41ca0; frame = (29 377; 268 31); opaque = NO; autoresize = RM+BM; layer = <CALayer: 0x7fe839c42820>; value: 1.000000>\n",
       "4\u001b[0m <UIProgressView: 0x7fe839c4f4d0; frame = (31 444; 264 2); opaque = NO; autoresize = RM+BM; layer = <CALayer: 0x7fe839c4f950>>\n",
       "5\u001b[0m <UISegmentedControl: 0x7fe839d9d890; frame = (13 316; 282 29); opaque = NO; autoresize = RM+BM; layer = <CALayer: 0x7fe839d9b1e0>>\n",
       "6\u001b[0m <UISwitch: 0x7fe839da9ff0; frame = (246 237; 51 31); opaque = NO; autoresize = RM+BM; layer = <CALayer: 0x7fe839da2ca0>>\n",
       "7\u001b[0m <_UILayoutGuide: 0x7fe839c53f70; frame = (0 0; 0 20); hidden = YES; layer = <CALayer: 0x7fe839c53ac0>>\n",
       "8\u001b[0m <_UILayoutGuide: 0x7fe839c532e0; frame = (0 568; 0 0); hidden = YES; layer = <CALayer: 0x7fe839c52860>>"
      ]
     },
     "execution_count": 24,
     "metadata": {},
     "output_type": "execute_result"
    }
   ],
   "source": [
    "@query vc.view.subviews"
   ]
  },
  {
   "cell_type": "code",
   "execution_count": 25,
   "metadata": {
    "collapsed": false
   },
   "outputs": [
    {
     "data": {
      "text/plain": [
       "false"
      ]
     },
     "execution_count": 25,
     "metadata": {},
     "output_type": "execute_result"
    }
   ],
   "source": [
    "ENV[\"SWIFTER_SAVE_IMAGE\"] = false"
   ]
  }
 ],
 "metadata": {
  "kernelspec": {
   "display_name": "Julia 0.4.5",
   "language": "julia",
   "name": "julia-0.4"
  },
  "language_info": {
   "file_extension": ".jl",
   "mimetype": "application/julia",
   "name": "julia",
   "version": "0.4.5"
  }
 },
 "nbformat": 4,
 "nbformat_minor": 0
}
