{
 "cells": [
  {
   "cell_type": "code",
   "execution_count": 3,
   "metadata": {
    "collapsed": false
   },
   "outputs": [],
   "source": [
    "using Swifter"
   ]
  },
  {
   "cell_type": "code",
   "execution_count": 4,
   "metadata": {
    "collapsed": false
   },
   "outputs": [
    {
     "data": {
      "text/plain": [
       "Swifter.Memory(Swifter.App(\"http://localhost:8080\"),\"0x7f9bf0534450\")"
      ]
     },
     "execution_count": 4,
     "metadata": {},
     "output_type": "execute_result"
    }
   ],
   "source": [
    "vc = initial(\"http://localhost:8080\")"
   ]
  },
  {
   "cell_type": "code",
   "execution_count": 6,
   "metadata": {
    "collapsed": false
   },
   "outputs": [
    {
     "data": {
      "text/markdown": [
       "```\n",
       "<UIView: 0x7f9bf0743770; frame = (0 0; 375 667); autoresize = W+H; layer = <CALayer: 0x7f9bf0743af0>>\n",
       "```\n",
       "<img src=\"http://localhost:8080/image?path&#61;0x7f9bf0534450.view&amp;rand&#61;Lk0J0d3BPp\" alt=\"0x7f9bf0534450.view\" style=\"width:250.0px; height: 444.6666666666667px;\" />"
      ],
      "text/plain": [
       "<UIView: 0x7f9bf0743770; frame = (0 0; 375 667); autoresize = W+H; layer = <CALayer: 0x7f9bf0743af0>>"
      ]
     },
     "execution_count": 6,
     "metadata": {},
     "output_type": "execute_result"
    }
   ],
   "source": [
    "@query vc.view"
   ]
  },
  {
   "cell_type": "code",
   "execution_count": 7,
   "metadata": {
    "collapsed": false
   },
   "outputs": [
    {
     "data": {
      "text/markdown": [
       "```\n",
       "UIDeviceRGBColorSpace 0 1 0 1\n",
       "```\n"
      ],
      "text/plain": [
       "UIDeviceRGBColorSpace 0 1 0 1"
      ]
     },
     "execution_count": 7,
     "metadata": {},
     "output_type": "execute_result"
    }
   ],
   "source": [
    "@query vc.view.backgroundColor = UIColor.greenColor()"
   ]
  },
  {
   "cell_type": "code",
   "execution_count": 8,
   "metadata": {
    "collapsed": false
   },
   "outputs": [
    {
     "data": {
      "text/markdown": [
       "```\n",
       "<UIView: 0x7f9bf0743770; frame = (0 0; 375 667); autoresize = W+H; layer = <CALayer: 0x7f9bf0743af0>>\n",
       "```\n",
       "<img src=\"http://localhost:8080/image?path&#61;0x7f9bf0534450.view&amp;rand&#61;ZsZIuZpm3r\" alt=\"0x7f9bf0534450.view\" style=\"width:250.0px; height: 444.6666666666667px;\" />"
      ],
      "text/plain": [
       "<UIView: 0x7f9bf0743770; frame = (0 0; 375 667); autoresize = W+H; layer = <CALayer: 0x7f9bf0743af0>>"
      ]
     },
     "execution_count": 8,
     "metadata": {},
     "output_type": "execute_result"
    }
   ],
   "source": [
    "@query vc.view"
   ]
  },
  {
   "cell_type": "code",
   "execution_count": 9,
   "metadata": {
    "collapsed": false
   },
   "outputs": [
    {
     "data": {
      "text/markdown": [
       "```\n",
       "{{0, 0}, {375, 667}}\n",
       "```\n"
      ],
      "text/plain": [
       "\"{{0, 0}, {375, 667}}\""
      ]
     },
     "execution_count": 9,
     "metadata": {},
     "output_type": "execute_result"
    }
   ],
   "source": [
    "@query vc.view.frame"
   ]
  },
  {
   "cell_type": "code",
   "execution_count": 10,
   "metadata": {
    "collapsed": false
   },
   "outputs": [
    {
     "data": {
      "text/markdown": [
       "```\n",
       "Hello world\n",
       "```\n"
      ],
      "text/plain": [
       "\"Hello world\""
      ]
     },
     "execution_count": 10,
     "metadata": {},
     "output_type": "execute_result"
    }
   ],
   "source": [
    "@query vc.label.text = \"Hello world\""
   ]
  },
  {
   "cell_type": "code",
   "execution_count": 11,
   "metadata": {
    "collapsed": false
   },
   "outputs": [
    {
     "data": {
      "text/plain": [
       "\"안녕하세요 3\""
      ]
     },
     "execution_count": 11,
     "metadata": {},
     "output_type": "execute_result"
    }
   ],
   "source": [
    "t = \"안녕하세요 $(1+2)\""
   ]
  },
  {
   "cell_type": "code",
   "execution_count": 12,
   "metadata": {
    "collapsed": false
   },
   "outputs": [
    {
     "data": {
      "text/markdown": [
       "```\n",
       "안녕하세요 3\n",
       "```\n"
      ],
      "text/plain": [
       "\"안녕하세요 3\""
      ]
     },
     "execution_count": 12,
     "metadata": {},
     "output_type": "execute_result"
    }
   ],
   "source": [
    "@query vc.label.text = t"
   ]
  },
  {
   "cell_type": "code",
   "execution_count": 13,
   "metadata": {
    "collapsed": false
   },
   "outputs": [
    {
     "data": {
      "text/markdown": [
       "```\n",
       "<UILabel: 0x7f9bf0740910; frame = (20 100; 500 200); text = '안녕하세요 3'; opaque = NO; autoresize = RM+BM; userInteractionEnabled = NO; layer = <_UILabelLayer: 0x7f9bf0740f00>>\n",
       "```\n",
       "<img src=\"http://localhost:8080/image?path&#61;0x7f9bf0534450.label&amp;rand&#61;RYmCIgHnMe\" alt=\"0x7f9bf0534450.label\" style=\"width:333.3333333333333px; height: 133.33333333333334px;\" />"
      ],
      "text/plain": [
       "<UILabel: 0x7f9bf0740910; frame = (20 100; 500 200); text = '안녕하세요 3'; opaque = NO; autoresize = RM+BM; userInteractionEnabled = NO; layer = <_UILabelLayer: 0x7f9bf0740f00>>"
      ]
     },
     "execution_count": 13,
     "metadata": {},
     "output_type": "execute_result"
    }
   ],
   "source": [
    "@query vc.label"
   ]
  },
  {
   "cell_type": "code",
   "execution_count": 14,
   "metadata": {
    "collapsed": false
   },
   "outputs": [
    {
     "data": {
      "text/markdown": [
       "```\n",
       "UIDeviceRGBColorSpace 1 0.5 0 1\n",
       "```\n"
      ],
      "text/plain": [
       "UIDeviceRGBColorSpace 1 0.5 0 1"
      ]
     },
     "execution_count": 14,
     "metadata": {},
     "output_type": "execute_result"
    }
   ],
   "source": [
    "@query vc.label.backgroundColor = UIColor.orangeColor()"
   ]
  },
  {
   "cell_type": "code",
   "execution_count": 15,
   "metadata": {
    "collapsed": false
   },
   "outputs": [
    {
     "data": {
      "text/markdown": [
       "```\n",
       "<UILabel: 0x7f9bf0740910; frame = (20 100; 500 200); text = '안녕하세요 3'; opaque = NO; autoresize = RM+BM; userInteractionEnabled = NO; layer = <_UILabelLayer: 0x7f9bf0740f00>>\n",
       "```\n",
       "<img src=\"http://localhost:8080/image?path&#61;0x7f9bf0534450.label&amp;rand&#61;1XSO0f8Nql\" alt=\"0x7f9bf0534450.label\" style=\"width:333.3333333333333px; height: 133.33333333333334px;\" />"
      ],
      "text/plain": [
       "<UILabel: 0x7f9bf0740910; frame = (20 100; 500 200); text = '안녕하세요 3'; opaque = NO; autoresize = RM+BM; userInteractionEnabled = NO; layer = <_UILabelLayer: 0x7f9bf0740f00>>"
      ]
     },
     "execution_count": 15,
     "metadata": {},
     "output_type": "execute_result"
    }
   ],
   "source": [
    "@query vc.label"
   ]
  },
  {
   "cell_type": "code",
   "execution_count": 16,
   "metadata": {
    "collapsed": false
   },
   "outputs": [
    {
     "data": {
      "text/markdown": [
       "```\n",
       "{{20, 300}, {500, 200}}\n",
       "```\n"
      ],
      "text/plain": [
       "\"{{20, 300}, {500, 200}}\""
      ]
     },
     "execution_count": 16,
     "metadata": {},
     "output_type": "execute_result"
    }
   ],
   "source": [
    "@query vc.label.frame = \"{{20, 300}, {500, 200}}\""
   ]
  },
  {
   "cell_type": "code",
   "execution_count": 17,
   "metadata": {
    "collapsed": false
   },
   "outputs": [
    {
     "data": {
      "text/markdown": [
       "```\n",
       "UIDeviceRGBColorSpace 1 1 0 1\n",
       "```\n"
      ],
      "text/plain": [
       "UIDeviceRGBColorSpace 1 1 0 1"
      ]
     },
     "execution_count": 17,
     "metadata": {},
     "output_type": "execute_result"
    }
   ],
   "source": [
    "@query vc.view.subviews[0].backgroundColor = UIColor.yellowColor()"
   ]
  },
  {
   "cell_type": "code",
   "execution_count": 18,
   "metadata": {
    "collapsed": false
   },
   "outputs": [
    {
     "data": {
      "text/markdown": [
       "```\n",
       "<UICTFont: 0x7f9bf054fd10> font-family: \"Helvetica\"; font-weight: normal; font-style: normal; font-size: 50.00pt\n",
       "```\n"
      ],
      "text/plain": [
       "<UICTFont: 0x7f9bf054fd10> font-family: \"Helvetica\"; font-weight: normal; font-style: normal; font-size: 50.00pt"
      ]
     },
     "execution_count": 18,
     "metadata": {},
     "output_type": "execute_result"
    }
   ],
   "source": [
    "@query vc.label.font = UIFont(name: \"Helvetica\", size: 50)"
   ]
  },
  {
   "cell_type": "code",
   "execution_count": 19,
   "metadata": {
    "collapsed": false
   },
   "outputs": [
    {
     "data": {
      "text/markdown": [
       "```\n",
       "<UILabel: 0x7f9bf0740910; frame = (20 100; 500 200); text = '안녕하세요 3'; opaque = NO; autoresize = RM+BM; userInteractionEnabled = NO; layer = <_UILabelLayer: 0x7f9bf0740f00>>\n",
       "```\n",
       "<img src=\"http://localhost:8080/image?path&#61;0x7f9bf0534450.label&amp;rand&#61;hoZUfvZKvp\" alt=\"0x7f9bf0534450.label\" style=\"width:333.3333333333333px; height: 133.33333333333334px;\" />"
      ],
      "text/plain": [
       "<UILabel: 0x7f9bf0740910; frame = (20 100; 500 200); text = '안녕하세요 3'; opaque = NO; autoresize = RM+BM; userInteractionEnabled = NO; layer = <_UILabelLayer: 0x7f9bf0740f00>>"
      ]
     },
     "execution_count": 19,
     "metadata": {},
     "output_type": "execute_result"
    }
   ],
   "source": [
    "@query vc.label"
   ]
  },
  {
   "cell_type": "code",
   "execution_count": null,
   "metadata": {
    "collapsed": true
   },
   "outputs": [],
   "source": []
  }
 ],
 "metadata": {
  "kernelspec": {
   "display_name": "Julia 0.5.0-dev",
   "language": "julia",
   "name": "julia-0.5"
  },
  "language_info": {
   "file_extension": ".jl",
   "mimetype": "application/julia",
   "name": "julia",
   "version": "0.5.0"
  }
 },
 "nbformat": 4,
 "nbformat_minor": 0
}
