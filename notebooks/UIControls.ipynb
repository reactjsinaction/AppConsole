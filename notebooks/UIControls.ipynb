{
 "cells": [
  {
   "cell_type": "markdown",
   "metadata": {},
   "source": [
    "# UIControls example\n",
    "\n",
    "### iOS REPL with Swifter.jl + AppConsole\n",
    "\n",
    "* https://github.com/wookay/Swifter.jl\n",
    "\n",
    "* https://github.com/wookay/AppConsole"
   ]
  },
  {
   "cell_type": "markdown",
   "metadata": {},
   "source": [
    "* open Demo/UIControls/UIControls.xcworkspace\n",
    "* Run"
   ]
  },
  {
   "cell_type": "code",
   "execution_count": 1,
   "metadata": {
    "collapsed": false
   },
   "outputs": [],
   "source": [
    "using Swifter"
   ]
  },
  {
   "cell_type": "code",
   "execution_count": 2,
   "metadata": {
    "collapsed": false
   },
   "outputs": [
    {
     "data": {
      "text/markdown": [
       "```\n",
       "<UIControls.AppDelegate: 0x7f8331d0f290>\n",
       "```\n"
      ],
      "text/plain": [
       "<UIControls.AppDelegate: 0x7f8331d0f290>"
      ]
     },
     "execution_count": 2,
     "metadata": {},
     "output_type": "execute_result"
    }
   ],
   "source": [
    "app = initial(\"http://localhost:8080\")"
   ]
  },
  {
   "cell_type": "code",
   "execution_count": 3,
   "metadata": {
    "collapsed": false
   },
   "outputs": [
    {
     "data": {
      "text/markdown": [
       "```\n",
       "<UIControls.ViewController: 0x7f8331c3a4d0>\n",
       "```\n"
      ],
      "text/plain": [
       "<UIControls.ViewController: 0x7f8331c3a4d0>"
      ]
     },
     "execution_count": 3,
     "metadata": {},
     "output_type": "execute_result"
    }
   ],
   "source": [
    "vc = @query app.window.rootViewController"
   ]
  },
  {
   "cell_type": "code",
   "execution_count": 4,
   "metadata": {
    "collapsed": false
   },
   "outputs": [
    {
     "data": {
      "text/markdown": [
       "```\n",
       "<UIView: 0x7f8331c53080; frame = (0 0; 320 568); autoresize = W+H; layer = <CALayer: 0x7f8331c531f0>>\n",
       "```\n",
       "<img src=\"images/0x7f8331c3a4d0.view-pSiwDCluo7.png?r&#61;pSiwDCluo7\" alt=\"0x7f8331c3a4d0.view\" style=\"width:160.0px; height: 284.0px;\" />"
      ],
      "text/plain": [
       "<UIView: 0x7f8331c53080; frame = (0 0; 320 568); autoresize = W+H; layer = <CALayer: 0x7f8331c531f0>>"
      ]
     },
     "execution_count": 4,
     "metadata": {},
     "output_type": "execute_result"
    }
   ],
   "source": [
    "@query vc.view"
   ]
  },
  {
   "cell_type": "code",
   "execution_count": 5,
   "metadata": {
    "collapsed": false
   },
   "outputs": [
    {
     "data": {
      "text/markdown": [
       "```\n",
       "Hello Swift\n",
       "```\n"
      ],
      "text/plain": [
       "\"Hello Swift\""
      ]
     },
     "execution_count": 5,
     "metadata": {},
     "output_type": "execute_result"
    }
   ],
   "source": [
    "@query vc.label.text = \"Hello Swift\""
   ]
  },
  {
   "cell_type": "code",
   "execution_count": 6,
   "metadata": {
    "collapsed": false
   },
   "outputs": [
    {
     "data": {
      "text/markdown": [
       "```\n",
       "Hello Julia\n",
       "```\n"
      ],
      "text/plain": [
       "\"Hello Julia\""
      ]
     },
     "execution_count": 6,
     "metadata": {},
     "output_type": "execute_result"
    }
   ],
   "source": [
    "@query vc.textField.text = \"Hello Julia\""
   ]
  },
  {
   "cell_type": "code",
   "execution_count": 7,
   "metadata": {
    "collapsed": false
   },
   "outputs": [
    {
     "data": {
      "text/markdown": [
       "```\n",
       "<UITextField: 0x7f8331c42e30; frame = (13 171; 282 30); text = 'Hello Julia'; clipsToBounds = YES; opaque = NO; autoresize = RM+BM; gestureRecognizers = <NSArray: 0x7f8331c1df90>; layer = <CALayer: 0x7f8331c440d0>>\n",
       "```\n",
       "<img src=\"images/0x7f8331c3a4d0.textField-uCwlUgi41R.png?r&#61;uCwlUgi41R\" alt=\"0x7f8331c3a4d0.textField\" style=\"width:282.0px; height: 30.0px;\" />"
      ],
      "text/plain": [
       "<UITextField: 0x7f8331c42e30; frame = (13 171; 282 30); text = 'Hello Julia'; clipsToBounds = YES; opaque = NO; autoresize = RM+BM; gestureRecognizers = <NSArray: 0x7f8331c1df90>; layer = <CALayer: 0x7f8331c440d0>>"
      ]
     },
     "execution_count": 7,
     "metadata": {},
     "output_type": "execute_result"
    }
   ],
   "source": [
    "@query vc.textField"
   ]
  },
  {
   "cell_type": "code",
   "execution_count": 8,
   "metadata": {
    "collapsed": false
   },
   "outputs": [
    {
     "data": {
      "text/markdown": [
       "```\n",
       "<UIButton: 0x7f8331e20020; frame = (13 238; 99 30); opaque = NO; autoresize = RM+BM; layer = <CALayer: 0x7f8331e20590>>\n",
       "```\n",
       "<img src=\"images/0x7f8331c3a4d0.button-FXDqlYyHU6.png?r&#61;FXDqlYyHU6\" alt=\"0x7f8331c3a4d0.button\" style=\"width:99.0px; height: 30.0px;\" />"
      ],
      "text/plain": [
       "<UIButton: 0x7f8331e20020; frame = (13 238; 99 30); opaque = NO; autoresize = RM+BM; layer = <CALayer: 0x7f8331e20590>>"
      ]
     },
     "execution_count": 8,
     "metadata": {},
     "output_type": "execute_result"
    }
   ],
   "source": [
    "@query vc.button"
   ]
  },
  {
   "cell_type": "code",
   "execution_count": 9,
   "metadata": {
    "collapsed": false
   },
   "outputs": [
    {
     "data": {
      "text/markdown": [],
      "text/plain": []
     },
     "execution_count": 9,
     "metadata": {},
     "output_type": "execute_result"
    }
   ],
   "source": [
    "@query vc.button.tap()"
   ]
  },
  {
   "cell_type": "code",
   "execution_count": 10,
   "metadata": {
    "collapsed": false
   },
   "outputs": [
    {
     "data": {
      "text/markdown": [
       "```\n",
       "<UISwitch: 0x7f8331f0e250; frame = (246 237; 51 31); opaque = NO; autoresize = RM+BM; layer = <CALayer: 0x7f8331f0f030>>\n",
       "```\n",
       "<img src=\"images/0x7f8331c3a4d0.switch_-7oX1eJ5Xwi.png?r&#61;7oX1eJ5Xwi\" alt=\"0x7f8331c3a4d0.switch_\" style=\"width:51.0px; height: 31.0px;\" />"
      ],
      "text/plain": [
       "<UISwitch: 0x7f8331f0e250; frame = (246 237; 51 31); opaque = NO; autoresize = RM+BM; layer = <CALayer: 0x7f8331f0f030>>"
      ]
     },
     "execution_count": 10,
     "metadata": {},
     "output_type": "execute_result"
    }
   ],
   "source": [
    "@query vc.switch_"
   ]
  },
  {
   "cell_type": "code",
   "execution_count": 11,
   "metadata": {
    "collapsed": false
   },
   "outputs": [
    {
     "data": {
      "text/markdown": [],
      "text/plain": []
     },
     "execution_count": 11,
     "metadata": {},
     "output_type": "execute_result"
    }
   ],
   "source": [
    "@query vc.switch_.tap()"
   ]
  },
  {
   "cell_type": "code",
   "execution_count": 12,
   "metadata": {
    "collapsed": false
   },
   "outputs": [
    {
     "data": {
      "text/markdown": [
       "```\n",
       "<UISwitch: 0x7f8331f0e250; frame = (246 237; 51 31); opaque = NO; autoresize = RM+BM; layer = <CALayer: 0x7f8331f0f030>>\n",
       "```\n",
       "<img src=\"images/0x7f8331c3a4d0.switch_-mrD7ZURiO5.png?r&#61;mrD7ZURiO5\" alt=\"0x7f8331c3a4d0.switch_\" style=\"width:51.0px; height: 31.0px;\" />"
      ],
      "text/plain": [
       "<UISwitch: 0x7f8331f0e250; frame = (246 237; 51 31); opaque = NO; autoresize = RM+BM; layer = <CALayer: 0x7f8331f0f030>>"
      ]
     },
     "execution_count": 12,
     "metadata": {},
     "output_type": "execute_result"
    }
   ],
   "source": [
    "@query vc.switch_"
   ]
  },
  {
   "cell_type": "code",
   "execution_count": 13,
   "metadata": {
    "collapsed": false
   },
   "outputs": [
    {
     "data": {
      "text/markdown": [
       "```\n",
       "<UISegmentedControl: 0x7f8331e22150; frame = (13 316; 282 29); opaque = NO; autoresize = RM+BM; layer = <CALayer: 0x7f8331e225c0>>\n",
       "```\n",
       "<img src=\"images/0x7f8331c3a4d0.segmentedControl-eBeyUXf9l7.png?r&#61;eBeyUXf9l7\" alt=\"0x7f8331c3a4d0.segmentedControl\" style=\"width:282.0px; height: 29.0px;\" />"
      ],
      "text/plain": [
       "<UISegmentedControl: 0x7f8331e22150; frame = (13 316; 282 29); opaque = NO; autoresize = RM+BM; layer = <CALayer: 0x7f8331e225c0>>"
      ]
     },
     "execution_count": 13,
     "metadata": {},
     "output_type": "execute_result"
    }
   ],
   "source": [
    "@query vc.segmentedControl"
   ]
  },
  {
   "cell_type": "code",
   "execution_count": 14,
   "metadata": {
    "collapsed": false
   },
   "outputs": [
    {
     "data": {
      "text/markdown": [],
      "text/plain": []
     },
     "execution_count": 14,
     "metadata": {},
     "output_type": "execute_result"
    }
   ],
   "source": [
    "@query vc.segmentedControl.tap(title: \"Second\")"
   ]
  },
  {
   "cell_type": "code",
   "execution_count": 15,
   "metadata": {
    "collapsed": false
   },
   "outputs": [
    {
     "data": {
      "text/markdown": [
       "```\n",
       "<UISegmentedControl: 0x7f8331e22150; frame = (13 316; 282 29); opaque = NO; autoresize = RM+BM; layer = <CALayer: 0x7f8331e225c0>>\n",
       "```\n",
       "<img src=\"images/0x7f8331c3a4d0.segmentedControl-jT1kpjcRT4.png?r&#61;jT1kpjcRT4\" alt=\"0x7f8331c3a4d0.segmentedControl\" style=\"width:282.0px; height: 29.0px;\" />"
      ],
      "text/plain": [
       "<UISegmentedControl: 0x7f8331e22150; frame = (13 316; 282 29); opaque = NO; autoresize = RM+BM; layer = <CALayer: 0x7f8331e225c0>>"
      ]
     },
     "execution_count": 15,
     "metadata": {},
     "output_type": "execute_result"
    }
   ],
   "source": [
    "@query vc.segmentedControl"
   ]
  },
  {
   "cell_type": "code",
   "execution_count": 16,
   "metadata": {
    "collapsed": false
   },
   "outputs": [
    {
     "data": {
      "text/markdown": [],
      "text/plain": []
     },
     "execution_count": 16,
     "metadata": {},
     "output_type": "execute_result"
    }
   ],
   "source": [
    "@query vc.segmentedControl.tap(index: 2)"
   ]
  },
  {
   "cell_type": "code",
   "execution_count": 17,
   "metadata": {
    "collapsed": false
   },
   "outputs": [
    {
     "data": {
      "text/markdown": [
       "```\n",
       "<UISegmentedControl: 0x7f8331e22150; frame = (13 316; 282 29); opaque = NO; autoresize = RM+BM; layer = <CALayer: 0x7f8331e225c0>>\n",
       "```\n",
       "<img src=\"images/0x7f8331c3a4d0.segmentedControl-qlZj7mwIL8.png?r&#61;qlZj7mwIL8\" alt=\"0x7f8331c3a4d0.segmentedControl\" style=\"width:282.0px; height: 29.0px;\" />"
      ],
      "text/plain": [
       "<UISegmentedControl: 0x7f8331e22150; frame = (13 316; 282 29); opaque = NO; autoresize = RM+BM; layer = <CALayer: 0x7f8331e225c0>>"
      ]
     },
     "execution_count": 17,
     "metadata": {},
     "output_type": "execute_result"
    }
   ],
   "source": [
    "@query vc.segmentedControl"
   ]
  },
  {
   "cell_type": "code",
   "execution_count": 18,
   "metadata": {
    "collapsed": false
   },
   "outputs": [
    {
     "data": {
      "text/markdown": [
       "```\n",
       "<UISlider: 0x7f8331e21820; frame = (29 377; 268 31); opaque = NO; autoresize = RM+BM; layer = <CALayer: 0x7f8331e1f5b0>; value: 0.500000>\n",
       "```\n",
       "<img src=\"images/0x7f8331c3a4d0.slider-pD2hgRz62S.png?r&#61;pD2hgRz62S\" alt=\"0x7f8331c3a4d0.slider\" style=\"width:268.0px; height: 31.0px;\" />"
      ],
      "text/plain": [
       "<UISlider: 0x7f8331e21820; frame = (29 377; 268 31); opaque = NO; autoresize = RM+BM; layer = <CALayer: 0x7f8331e1f5b0>; value: 0.500000>"
      ]
     },
     "execution_count": 18,
     "metadata": {},
     "output_type": "execute_result"
    }
   ],
   "source": [
    "@query vc.slider"
   ]
  },
  {
   "cell_type": "code",
   "execution_count": 19,
   "metadata": {
    "collapsed": false
   },
   "outputs": [
    {
     "data": {
      "text/markdown": [],
      "text/plain": []
     },
     "execution_count": 19,
     "metadata": {},
     "output_type": "execute_result"
    }
   ],
   "source": [
    "@query vc.slider.tap(value: 1)"
   ]
  },
  {
   "cell_type": "code",
   "execution_count": 20,
   "metadata": {
    "collapsed": false
   },
   "outputs": [
    {
     "data": {
      "text/markdown": [
       "```\n",
       "<UISlider: 0x7f8331e21820; frame = (29 377; 268 31); opaque = NO; autoresize = RM+BM; layer = <CALayer: 0x7f8331e1f5b0>; value: 1.000000>\n",
       "```\n",
       "<img src=\"images/0x7f8331c3a4d0.slider-1uINZiYOkI.png?r&#61;1uINZiYOkI\" alt=\"0x7f8331c3a4d0.slider\" style=\"width:268.0px; height: 31.0px;\" />"
      ],
      "text/plain": [
       "<UISlider: 0x7f8331e21820; frame = (29 377; 268 31); opaque = NO; autoresize = RM+BM; layer = <CALayer: 0x7f8331e1f5b0>; value: 1.000000>"
      ]
     },
     "execution_count": 20,
     "metadata": {},
     "output_type": "execute_result"
    }
   ],
   "source": [
    "@query vc.slider"
   ]
  },
  {
   "cell_type": "code",
   "execution_count": 21,
   "metadata": {
    "collapsed": false
   },
   "outputs": [
    {
     "data": {
      "text/markdown": [
       "```\n",
       "<UIProgressView: 0x7f8331c4fe20; frame = (31 444; 264 2); opaque = NO; autoresize = RM+BM; layer = <CALayer: 0x7f8331c502a0>>\n",
       "```\n",
       "<img src=\"images/0x7f8331c3a4d0.progressView-e6RXDTNh5T.png?r&#61;e6RXDTNh5T\" alt=\"0x7f8331c3a4d0.progressView\" style=\"width:264.0px; height: 2.0px;\" />"
      ],
      "text/plain": [
       "<UIProgressView: 0x7f8331c4fe20; frame = (31 444; 264 2); opaque = NO; autoresize = RM+BM; layer = <CALayer: 0x7f8331c502a0>>"
      ]
     },
     "execution_count": 21,
     "metadata": {},
     "output_type": "execute_result"
    }
   ],
   "source": [
    "@query vc.progressView"
   ]
  },
  {
   "cell_type": "code",
   "execution_count": 22,
   "metadata": {
    "collapsed": false
   },
   "outputs": [
    {
     "data": {
      "text/markdown": [],
      "text/plain": []
     },
     "execution_count": 22,
     "metadata": {},
     "output_type": "execute_result"
    }
   ],
   "source": [
    "@query vc.progressView.setProgress(1, animated: true)"
   ]
  },
  {
   "cell_type": "code",
   "execution_count": 23,
   "metadata": {
    "collapsed": false
   },
   "outputs": [
    {
     "data": {
      "text/markdown": [
       "```\n",
       "<UIProgressView: 0x7f8331c4fe20; frame = (31 444; 264 2); opaque = NO; autoresize = RM+BM; layer = <CALayer: 0x7f8331c502a0>>\n",
       "```\n",
       "<img src=\"images/0x7f8331c3a4d0.progressView-NZVcEvJN1q.png?r&#61;NZVcEvJN1q\" alt=\"0x7f8331c3a4d0.progressView\" style=\"width:264.0px; height: 2.0px;\" />"
      ],
      "text/plain": [
       "<UIProgressView: 0x7f8331c4fe20; frame = (31 444; 264 2); opaque = NO; autoresize = RM+BM; layer = <CALayer: 0x7f8331c502a0>>"
      ]
     },
     "execution_count": 23,
     "metadata": {},
     "output_type": "execute_result"
    }
   ],
   "source": [
    "@query vc.progressView"
   ]
  },
  {
   "cell_type": "code",
   "execution_count": 24,
   "metadata": {
    "collapsed": false
   },
   "outputs": [
    {
     "data": {
      "text/markdown": [
       "  * &lt;UILabel: 0x7f8331c4f2c0; frame &#61; &#40;13 89; 282 57&#41;; text &#61; &#39;Hello Swift&#39;; opaque &#61; NO; autoresize &#61; RM&#43;BM; userInteractionEnabled &#61; NO; layer &#61; &lt;_UILabelLayer: 0x7f8331c4f240&gt;&gt;\n",
       "  * &lt;UIButton: 0x7f8331e20020; frame &#61; &#40;13 238; 99 30&#41;; opaque &#61; NO; autoresize &#61; RM&#43;BM; layer &#61; &lt;CALayer: 0x7f8331e20590&gt;&gt;\n",
       "  * &lt;UITextField: 0x7f8331c42e30; frame &#61; &#40;13 171; 282 30&#41;; text &#61; &#39;Hello Julia&#39;; clipsToBounds &#61; YES; opaque &#61; NO; autoresize &#61; RM&#43;BM; gestureRecognizers &#61; &lt;NSArray: 0x7f8331c1df90&gt;; layer &#61; &lt;CALayer: 0x7f8331c440d0&gt;&gt;\n",
       "  * &lt;UISlider: 0x7f8331e21820; frame &#61; &#40;29 377; 268 31&#41;; opaque &#61; NO; autoresize &#61; RM&#43;BM; layer &#61; &lt;CALayer: 0x7f8331e1f5b0&gt;; value: 1.000000&gt;\n",
       "  * &lt;UIProgressView: 0x7f8331c4fe20; frame &#61; &#40;31 444; 264 2&#41;; opaque &#61; NO; autoresize &#61; RM&#43;BM; layer &#61; &lt;CALayer: 0x7f8331c502a0&gt;&gt;\n",
       "  * &lt;UISegmentedControl: 0x7f8331e22150; frame &#61; &#40;13 316; 282 29&#41;; opaque &#61; NO; autoresize &#61; RM&#43;BM; layer &#61; &lt;CALayer: 0x7f8331e225c0&gt;&gt;\n",
       "  * &lt;UISwitch: 0x7f8331f0e250; frame &#61; &#40;246 237; 51 31&#41;; opaque &#61; NO; autoresize &#61; RM&#43;BM; layer &#61; &lt;CALayer: 0x7f8331f0f030&gt;&gt;\n",
       "  * &lt;_UILayoutGuide: 0x7f8331c520d0; frame &#61; &#40;0 0; 0 20&#41;; hidden &#61; YES; layer &#61; &lt;CALayer: 0x7f8331c53430&gt;&gt;\n",
       "  * &lt;_UILayoutGuide: 0x7f8331c53c20; frame &#61; &#40;0 568; 0 0&#41;; hidden &#61; YES; layer &#61; &lt;CALayer: 0x7f8331c53950&gt;&gt;\n"
      ],
      "text/plain": [
       "0\u001b[0m <UILabel: 0x7f8331c4f2c0; frame = (13 89; 282 57); text = 'Hello Swift'; opaque = NO; autoresize = RM+BM; userInteractionEnabled = NO; layer = <_UILabelLayer: 0x7f8331c4f240>>\n",
       "1\u001b[0m <UIButton: 0x7f8331e20020; frame = (13 238; 99 30); opaque = NO; autoresize = RM+BM; layer = <CALayer: 0x7f8331e20590>>\n",
       "2\u001b[0m <UITextField: 0x7f8331c42e30; frame = (13 171; 282 30); text = 'Hello Julia'; clipsToBounds = YES; opaque = NO; autoresize = RM+BM; gestureRecognizers = <NSArray: 0x7f8331c1df90>; layer = <CALayer: 0x7f8331c440d0>>\n",
       "3\u001b[0m <UISlider: 0x7f8331e21820; frame = (29 377; 268 31); opaque = NO; autoresize = RM+BM; layer = <CALayer: 0x7f8331e1f5b0>; value: 1.000000>\n",
       "4\u001b[0m <UIProgressView: 0x7f8331c4fe20; frame = (31 444; 264 2); opaque = NO; autoresize = RM+BM; layer = <CALayer: 0x7f8331c502a0>>\n",
       "5\u001b[0m <UISegmentedControl: 0x7f8331e22150; frame = (13 316; 282 29); opaque = NO; autoresize = RM+BM; layer = <CALayer: 0x7f8331e225c0>>\n",
       "6\u001b[0m <UISwitch: 0x7f8331f0e250; frame = (246 237; 51 31); opaque = NO; autoresize = RM+BM; layer = <CALayer: 0x7f8331f0f030>>\n",
       "7\u001b[0m <_UILayoutGuide: 0x7f8331c520d0; frame = (0 0; 0 20); hidden = YES; layer = <CALayer: 0x7f8331c53430>>\n",
       "8\u001b[0m <_UILayoutGuide: 0x7f8331c53c20; frame = (0 568; 0 0); hidden = YES; layer = <CALayer: 0x7f8331c53950>>"
      ]
     },
     "execution_count": 24,
     "metadata": {},
     "output_type": "execute_result"
    }
   ],
   "source": [
    "@query vc.view.subviews"
   ]
  },
  {
   "cell_type": "code",
   "execution_count": 25,
   "metadata": {
    "collapsed": false
   },
   "outputs": [
    {
     "data": {
      "text/plain": [
       "false"
      ]
     },
     "execution_count": 25,
     "metadata": {},
     "output_type": "execute_result"
    }
   ],
   "source": [
    "ENV[\"SWIFTER_SAVE_IMAGE\"] = false"
   ]
  }
 ],
 "metadata": {
  "kernelspec": {
   "display_name": "Julia 0.4.5",
   "language": "julia",
   "name": "julia-0.4"
  },
  "language_info": {
   "file_extension": ".jl",
   "mimetype": "application/julia",
   "name": "julia",
   "version": "0.4.5"
  }
 },
 "nbformat": 4,
 "nbformat_minor": 0
}
