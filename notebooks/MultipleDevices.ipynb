{
 "cells": [
  {
   "cell_type": "markdown",
   "metadata": {},
   "source": [
    "# MultipleDevices example"
   ]
  },
  {
   "cell_type": "markdown",
   "metadata": {},
   "source": [
    "### iOS REPL with Swifter.jl + AppConsole\n",
    "\n",
    "* https://github.com/wookay/Swifter.jl\n",
    "\n",
    "* https://github.com/wookay/AppConsole"
   ]
  },
  {
   "cell_type": "markdown",
   "metadata": {},
   "source": [
    "* open Demo/ViewController/ViewController.xcworkspace\n",
    "* Run"
   ]
  },
  {
   "cell_type": "code",
   "execution_count": 1,
   "metadata": {
    "collapsed": false
   },
   "outputs": [],
   "source": [
    "using Swifter"
   ]
  },
  {
   "cell_type": "code",
   "execution_count": 2,
   "metadata": {
    "collapsed": false
   },
   "outputs": [
    {
     "data": {
      "text/markdown": [
       "```\n",
       "<ViewController.ViewController: 0x14463b0b0>\n",
       "```\n"
      ],
      "text/plain": [
       "<ViewController.ViewController: 0x14463b0b0>"
      ]
     },
     "execution_count": 2,
     "metadata": {},
     "output_type": "execute_result"
    }
   ],
   "source": [
    "iphone = initial(\"http://192.168.0.9:8080\")"
   ]
  },
  {
   "cell_type": "code",
   "execution_count": 3,
   "metadata": {
    "collapsed": false
   },
   "outputs": [
    {
     "data": {
      "text/markdown": [
       "```\n",
       "<ViewController.ViewController: 0x7fece05391e0>\n",
       "```\n"
      ],
      "text/plain": [
       "<ViewController.ViewController: 0x7fece05391e0>"
      ]
     },
     "execution_count": 3,
     "metadata": {},
     "output_type": "execute_result"
    }
   ],
   "source": [
    "simul = initial(\"http://localhost:8080\")"
   ]
  },
  {
   "cell_type": "code",
   "execution_count": 4,
   "metadata": {
    "collapsed": false,
    "scrolled": true
   },
   "outputs": [
    {
     "data": {
      "text/markdown": [
       "```\n",
       "UIDeviceRGBColorSpace 0 1 1 1\n",
       "```\n"
      ],
      "text/plain": [
       "\"UIDeviceRGBColorSpace 0 1 1 1\""
      ]
     },
     "execution_count": 4,
     "metadata": {},
     "output_type": "execute_result"
    }
   ],
   "source": [
    "@query iphone.view.backgroundColor = UIColor.cyanColor()"
   ]
  },
  {
   "cell_type": "code",
   "execution_count": 5,
   "metadata": {
    "collapsed": false
   },
   "outputs": [
    {
     "data": {
      "text/markdown": [
       "```\n",
       "UIDeviceRGBColorSpace 0 1 1 1\n",
       "```\n"
      ],
      "text/plain": [
       "\"UIDeviceRGBColorSpace 0 1 1 1\""
      ]
     },
     "execution_count": 5,
     "metadata": {},
     "output_type": "execute_result"
    }
   ],
   "source": [
    "@query simul.view.backgroundColor = iphone.view.backgroundColor"
   ]
  },
  {
   "cell_type": "code",
   "execution_count": 6,
   "metadata": {
    "collapsed": false
   },
   "outputs": [
    {
     "data": {
      "text/markdown": [
       "```\n",
       "<UIView: 0x7fece04b2f90; frame = (0 0; 320 568); autoresize = W+H; layer = <CALayer: 0x7fece04b3310>>\n",
       "```\n",
       "<img src=\"images/0x7fece05391e0.view-QDFsJcWRKB.png?r&#61;QDFsJcWRKB\" alt=\"0x7fece05391e0.view\" style=\"width:160.0px; height: 284.0px;\" />"
      ],
      "text/plain": [
       "<UIView: 0x7fece04b2f90; frame = (0 0; 320 568); autoresize = W+H; layer = <CALayer: 0x7fece04b3310>>"
      ]
     },
     "execution_count": 6,
     "metadata": {},
     "output_type": "execute_result"
    }
   ],
   "source": [
    "@query simul.view"
   ]
  },
  {
   "cell_type": "code",
   "execution_count": 7,
   "metadata": {
    "collapsed": false
   },
   "outputs": [],
   "source": [
    "for vc in [iphone, simul]\n",
    "    @query vc.view.backgroundColor = UIColor.orangeColor()\n",
    "end"
   ]
  },
  {
   "cell_type": "code",
   "execution_count": 8,
   "metadata": {
    "collapsed": false
   },
   "outputs": [
    {
     "data": {
      "text/markdown": [
       "```\n",
       "<UIView: 0x1446411a0; frame = (0 0; 320 568); autoresize = W+H; layer = <CALayer: 0x144641510>>\n",
       "```\n",
       "<img src=\"images/0x14463b0b0.view-SvP1oXreui.png?r&#61;SvP1oXreui\" alt=\"0x14463b0b0.view\" style=\"width:160.0px; height: 284.0px;\" />"
      ],
      "text/plain": [
       "<UIView: 0x1446411a0; frame = (0 0; 320 568); autoresize = W+H; layer = <CALayer: 0x144641510>>"
      ]
     },
     "execution_count": 8,
     "metadata": {},
     "output_type": "execute_result"
    }
   ],
   "source": [
    "@query iphone.view"
   ]
  },
  {
   "cell_type": "code",
   "execution_count": 9,
   "metadata": {
    "collapsed": false
   },
   "outputs": [
    {
     "data": {
      "text/markdown": [
       "```\n",
       "UIDeviceRGBColorSpace 0 0 1 1\n",
       "```\n"
      ],
      "text/plain": [
       "\"UIDeviceRGBColorSpace 0 0 1 1\""
      ]
     },
     "execution_count": 9,
     "metadata": {},
     "output_type": "execute_result"
    }
   ],
   "source": [
    "@query simul.view.backgroundColor = UIColor.blueColor()\n",
    "@query iphone.view.backgroundColor = simul.view.backgroundColor"
   ]
  },
  {
   "cell_type": "code",
   "execution_count": 10,
   "metadata": {
    "collapsed": false
   },
   "outputs": [
    {
     "data": {
      "text/markdown": [
       "```\n",
       "<UIView: 0x1446411a0; frame = (0 0; 320 568); autoresize = W+H; layer = <CALayer: 0x144641510>>\n",
       "```\n",
       "<img src=\"images/0x14463b0b0.view-b1giLwDoSz.png?r&#61;b1giLwDoSz\" alt=\"0x14463b0b0.view\" style=\"width:160.0px; height: 284.0px;\" />"
      ],
      "text/plain": [
       "<UIView: 0x1446411a0; frame = (0 0; 320 568); autoresize = W+H; layer = <CALayer: 0x144641510>>"
      ]
     },
     "execution_count": 10,
     "metadata": {},
     "output_type": "execute_result"
    }
   ],
   "source": [
    "@query iphone.view"
   ]
  },
  {
   "cell_type": "code",
   "execution_count": 11,
   "metadata": {
    "collapsed": false
   },
   "outputs": [],
   "source": [
    "for vc in [iphone, simul]\n",
    "    @query vc.view.backgroundColor = UIColor.whiteColor()\n",
    "end"
   ]
  },
  {
   "cell_type": "code",
   "execution_count": 12,
   "metadata": {
    "collapsed": false
   },
   "outputs": [
    {
     "data": {
      "text/markdown": [
       "```\n",
       "Swift\n",
       "```\n"
      ],
      "text/plain": [
       "\"Swift\""
      ]
     },
     "execution_count": 12,
     "metadata": {},
     "output_type": "execute_result"
    }
   ],
   "source": [
    "@query iphone.label.text = \"Julia\"\n",
    "@query simul.label.text = \"Swift\""
   ]
  },
  {
   "cell_type": "code",
   "execution_count": 13,
   "metadata": {
    "collapsed": false
   },
   "outputs": [
    {
     "data": {
      "text/markdown": [
       "```\n",
       "Julia\n",
       "```\n"
      ],
      "text/plain": [
       "\"Julia\""
      ]
     },
     "execution_count": 13,
     "metadata": {},
     "output_type": "execute_result"
    }
   ],
   "source": [
    "temporal = @query iphone.label.text\n",
    "@query iphone.label.text = simul.label.text\n",
    "@query simul.label.text = temporal"
   ]
  },
  {
   "cell_type": "code",
   "execution_count": 14,
   "metadata": {
    "collapsed": false
   },
   "outputs": [],
   "source": [
    "for vc in [iphone, simul]\n",
    "    @query vc.label.text = \"Julia & Swift\"\n",
    "end"
   ]
  },
  {
   "cell_type": "code",
   "execution_count": 15,
   "metadata": {
    "collapsed": false
   },
   "outputs": [
    {
     "data": {
      "text/plain": [
       "2-element Array{Swifter.QueryResult,1}:\n",
       " \"Julia & Swift\"\n",
       " \"Julia & Swift\""
      ]
     },
     "execution_count": 15,
     "metadata": {},
     "output_type": "execute_result"
    }
   ],
   "source": [
    "map([iphone, simul]) do vc\n",
    "    @query vc.label.text\n",
    "end"
   ]
  },
  {
   "cell_type": "code",
   "execution_count": 16,
   "metadata": {
    "collapsed": false
   },
   "outputs": [
    {
     "data": {
      "text/markdown": [
       "```\n",
       "<UIView: 0x7fece04b2f90; frame = (0 0; 320 568); autoresize = W+H; layer = <CALayer: 0x7fece04b3310>>\n",
       "```\n",
       "<img src=\"images/0x7fece05391e0.view-wOora6NP9u.png?r&#61;wOora6NP9u\" alt=\"0x7fece05391e0.view\" style=\"width:160.0px; height: 284.0px;\" />"
      ],
      "text/plain": [
       "<UIView: 0x7fece04b2f90; frame = (0 0; 320 568); autoresize = W+H; layer = <CALayer: 0x7fece04b3310>>"
      ]
     },
     "execution_count": 16,
     "metadata": {},
     "output_type": "execute_result"
    }
   ],
   "source": [
    "@query simul.view"
   ]
  },
  {
   "cell_type": "code",
   "execution_count": 17,
   "metadata": {
    "collapsed": false
   },
   "outputs": [
    {
     "data": {
      "text/plain": [
       "false"
      ]
     },
     "execution_count": 17,
     "metadata": {},
     "output_type": "execute_result"
    }
   ],
   "source": [
    "ENV[\"SWIFTER_SAVE_IMAGE\"] = false"
   ]
  }
 ],
 "metadata": {
  "kernelspec": {
   "display_name": "Julia 0.4.5",
   "language": "julia",
   "name": "julia-0.4"
  },
  "language_info": {
   "file_extension": ".jl",
   "mimetype": "application/julia",
   "name": "julia",
   "version": "0.4.5"
  }
 },
 "nbformat": 4,
 "nbformat_minor": 0
}
