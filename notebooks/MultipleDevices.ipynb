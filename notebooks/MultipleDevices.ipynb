{
 "cells": [
  {
   "cell_type": "markdown",
   "metadata": {},
   "source": [
    "# MultipleDevices example"
   ]
  },
  {
   "cell_type": "markdown",
   "metadata": {},
   "source": [
    "### iOS REPL with Swifter.jl + AppConsole\n",
    "\n",
    "* https://github.com/wookay/Swifter.jl\n",
    "\n",
    "* https://github.com/wookay/AppConsole"
   ]
  },
  {
   "cell_type": "markdown",
   "metadata": {},
   "source": [
    "* open AppConsole/Demo/ViewController/ViewController.xcworkspace\n",
    "```swift\n",
    "// part of ViewController.swift\n",
    "class ViewController: UIViewController {\n",
    "    @IBOutlet var label: UILabel!\n",
    "    \n",
    "    override func viewDidLoad() {\n",
    "        super.viewDidLoad()\n",
    "        // Do any additional setup after loading the view, typically from a nib.\n",
    "        \n",
    "        label.text = AppConsole(initial: self).run()\n",
    "    }\n",
    "\n",
    "    ...\n",
    "```\n",
    "* Run"
   ]
  },
  {
   "cell_type": "code",
   "execution_count": 1,
   "metadata": {
    "collapsed": false
   },
   "outputs": [],
   "source": [
    "using Swifter"
   ]
  },
  {
   "cell_type": "code",
   "execution_count": 2,
   "metadata": {
    "collapsed": false
   },
   "outputs": [
    {
     "data": {
      "text/markdown": [
       "```\n",
       "<ViewController.ViewController: 0x7fc120c33be0>\n",
       "```\n"
      ],
      "text/plain": [
       "<ViewController.ViewController: 0x7fc120c33be0>"
      ]
     },
     "execution_count": 2,
     "metadata": {},
     "output_type": "execute_result"
    }
   ],
   "source": [
    "simul = initial(\"http://localhost:8080\")"
   ]
  },
  {
   "cell_type": "code",
   "execution_count": 3,
   "metadata": {
    "collapsed": false
   },
   "outputs": [
    {
     "data": {
      "text/markdown": [
       "```\n",
       "<ViewController.ViewController: 0x13ce3d2f0>\n",
       "```\n"
      ],
      "text/plain": [
       "<ViewController.ViewController: 0x13ce3d2f0>"
      ]
     },
     "execution_count": 3,
     "metadata": {},
     "output_type": "execute_result"
    }
   ],
   "source": [
    "iphone = initial(\"http://192.168.0.85:8080\")"
   ]
  },
  {
   "cell_type": "code",
   "execution_count": 5,
   "metadata": {
    "collapsed": false
   },
   "outputs": [
    {
     "data": {
      "text/markdown": [
       "```\n",
       "iphone\n",
       "```\n"
      ],
      "text/plain": [
       "\"iphone\""
      ]
     },
     "execution_count": 5,
     "metadata": {},
     "output_type": "execute_result"
    }
   ],
   "source": [
    "@query simul.label.text = \"simulator\"\n",
    "@query iphone.label.text = \"iphone\""
   ]
  },
  {
   "cell_type": "markdown",
   "metadata": {},
   "source": [
    "<img src=\"images/multiple-1.png\" alt=\"multiple-1\" style=\"width: 200px;\"/>"
   ]
  },
  {
   "cell_type": "code",
   "execution_count": 6,
   "metadata": {
    "collapsed": false,
    "scrolled": true
   },
   "outputs": [
    {
     "data": {
      "text/markdown": [
       "```\n",
       "UIDeviceRGBColorSpace 0 1 1 1\n",
       "```\n"
      ],
      "text/plain": [
       "UIDeviceRGBColorSpace 0 1 1 1"
      ]
     },
     "execution_count": 6,
     "metadata": {},
     "output_type": "execute_result"
    }
   ],
   "source": [
    "@query iphone.view.backgroundColor = UIColor.cyanColor()"
   ]
  },
  {
   "cell_type": "markdown",
   "metadata": {},
   "source": [
    "<img src=\"images/multiple-2.png\" alt=\"multiple-2\" style=\"width: 200px;\"/>"
   ]
  },
  {
   "cell_type": "code",
   "execution_count": 7,
   "metadata": {
    "collapsed": false
   },
   "outputs": [
    {
     "data": {
      "text/markdown": [
       "```\n",
       "UIDeviceRGBColorSpace 0 1 1 1\n",
       "```\n"
      ],
      "text/plain": [
       "\"UIDeviceRGBColorSpace 0 1 1 1\""
      ]
     },
     "execution_count": 7,
     "metadata": {},
     "output_type": "execute_result"
    }
   ],
   "source": [
    "@query simul.view.backgroundColor = iphone.view.backgroundColor"
   ]
  },
  {
   "cell_type": "markdown",
   "metadata": {},
   "source": [
    "<img src=\"images/multiple-3.png\" alt=\"multiple-3\" style=\"width: 200px;\"/>"
   ]
  },
  {
   "cell_type": "code",
   "execution_count": 8,
   "metadata": {
    "collapsed": false
   },
   "outputs": [],
   "source": [
    "for vc in [iphone, simul]\n",
    "    @query vc.view.backgroundColor = UIColor.orangeColor()\n",
    "end"
   ]
  },
  {
   "cell_type": "markdown",
   "metadata": {},
   "source": [
    "<img src=\"images/multiple-4.png\" alt=\"multiple-4\" style=\"width: 200px;\"/>"
   ]
  },
  {
   "cell_type": "code",
   "execution_count": 9,
   "metadata": {
    "collapsed": false
   },
   "outputs": [],
   "source": [
    "for vc in [iphone, simul]\n",
    "    @query vc.label.text = \"Julia & Swift\"\n",
    "end"
   ]
  },
  {
   "cell_type": "markdown",
   "metadata": {},
   "source": [
    "<img src=\"images/multiple-5.png\" alt=\"multiple-5\" style=\"width: 200px;\"/>"
   ]
  },
  {
   "cell_type": "code",
   "execution_count": 10,
   "metadata": {
    "collapsed": false
   },
   "outputs": [
    {
     "data": {
      "text/plain": [
       "2-element Array{Swifter.QueryResult,1}:\n",
       " \"Julia & Swift\"\n",
       " \"Julia & Swift\""
      ]
     },
     "execution_count": 10,
     "metadata": {},
     "output_type": "execute_result"
    }
   ],
   "source": [
    "map([iphone, simul]) do vc\n",
    "    @query vc.label.text\n",
    "end"
   ]
  },
  {
   "cell_type": "code",
   "execution_count": 11,
   "metadata": {
    "collapsed": false
   },
   "outputs": [
    {
     "data": {
      "text/plain": [
       "false"
      ]
     },
     "execution_count": 11,
     "metadata": {},
     "output_type": "execute_result"
    }
   ],
   "source": [
    "ENV[\"SWIFTER_SAVE_IMAGE\"] = false"
   ]
  }
 ],
 "metadata": {
  "kernelspec": {
   "display_name": "Julia 0.4.5",
   "language": "julia",
   "name": "julia-0.4"
  },
  "language_info": {
   "file_extension": ".jl",
   "mimetype": "application/julia",
   "name": "julia",
   "version": "0.4.5"
  }
 },
 "nbformat": 4,
 "nbformat_minor": 0
}
