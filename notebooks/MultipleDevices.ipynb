{
 "cells": [
  {
   "cell_type": "markdown",
   "metadata": {},
   "source": [
    "# MultipleDevices example"
   ]
  },
  {
   "cell_type": "markdown",
   "metadata": {},
   "source": [
    "### iOS REPL with Swifter.jl + AppConsole\n",
    "\n",
    "* https://github.com/wookay/Swifter.jl\n",
    "\n",
    "* https://github.com/wookay/AppConsole"
   ]
  },
  {
   "cell_type": "markdown",
   "metadata": {},
   "source": [
    "* open Demo/ViewController/ViewController.xcworkspace\n",
    "* Run"
   ]
  },
  {
   "cell_type": "code",
   "execution_count": 1,
   "metadata": {
    "collapsed": false
   },
   "outputs": [],
   "source": [
    "using Swifter"
   ]
  },
  {
   "cell_type": "code",
   "execution_count": 2,
   "metadata": {
    "collapsed": false
   },
   "outputs": [
    {
     "data": {
      "text/markdown": [
       "```\n",
       "<ViewController.ViewController: 0x13dd48210>\n",
       "```\n"
      ],
      "text/plain": [
       "<ViewController.ViewController: 0x13dd48210>"
      ]
     },
     "execution_count": 2,
     "metadata": {},
     "output_type": "execute_result"
    }
   ],
   "source": [
    "iphone = initial(\"http://192.168.0.9:8080\")"
   ]
  },
  {
   "cell_type": "code",
   "execution_count": 3,
   "metadata": {
    "collapsed": false
   },
   "outputs": [
    {
     "data": {
      "text/markdown": [
       "```\n",
       "<ViewController.ViewController: 0x7f9393e171c0>\n",
       "```\n"
      ],
      "text/plain": [
       "<ViewController.ViewController: 0x7f9393e171c0>"
      ]
     },
     "execution_count": 3,
     "metadata": {},
     "output_type": "execute_result"
    }
   ],
   "source": [
    "simul = initial(\"http://localhost:8080\")"
   ]
  },
  {
   "cell_type": "code",
   "execution_count": 4,
   "metadata": {
    "collapsed": false,
    "scrolled": true
   },
   "outputs": [
    {
     "data": {
      "text/markdown": [
       "```\n",
       "UIDeviceRGBColorSpace 0 1 1 1\n",
       "```\n"
      ],
      "text/plain": [
       "\"UIDeviceRGBColorSpace 0 1 1 1\""
      ]
     },
     "execution_count": 4,
     "metadata": {},
     "output_type": "execute_result"
    }
   ],
   "source": [
    "@query iphone.view.backgroundColor = UIColor.cyanColor()"
   ]
  },
  {
   "cell_type": "code",
   "execution_count": 5,
   "metadata": {
    "collapsed": false
   },
   "outputs": [
    {
     "data": {
      "text/markdown": [
       "```\n",
       "UIDeviceRGBColorSpace 0 1 1 1\n",
       "```\n"
      ],
      "text/plain": [
       "\"UIDeviceRGBColorSpace 0 1 1 1\""
      ]
     },
     "execution_count": 5,
     "metadata": {},
     "output_type": "execute_result"
    }
   ],
   "source": [
    "@query simul.view.backgroundColor = iphone.view.backgroundColor"
   ]
  },
  {
   "cell_type": "code",
   "execution_count": 6,
   "metadata": {
    "collapsed": false
   },
   "outputs": [
    {
     "data": {
      "text/markdown": [
       "```\n",
       "<UIView: 0x7f9393f14e00; frame = (0 0; 320 568); autoresize = W+H; layer = <CALayer: 0x7f9393f15180>>\n",
       "```\n",
       "<img src=\"images/0x7f9393e171c0.view-HfUbUb4Ffl.png?r&#61;HfUbUb4Ffl\" alt=\"0x7f9393e171c0.view\" style=\"width:160.0px; height: 284.0px;\" />"
      ],
      "text/plain": [
       "<UIView: 0x7f9393f14e00; frame = (0 0; 320 568); autoresize = W+H; layer = <CALayer: 0x7f9393f15180>>"
      ]
     },
     "execution_count": 6,
     "metadata": {},
     "output_type": "execute_result"
    }
   ],
   "source": [
    "@query simul.view"
   ]
  },
  {
   "cell_type": "code",
   "execution_count": 7,
   "metadata": {
    "collapsed": false
   },
   "outputs": [],
   "source": [
    "for vc in [iphone, simul]\n",
    "    @query vc.view.backgroundColor = UIColor.orangeColor()\n",
    "end"
   ]
  },
  {
   "cell_type": "code",
   "execution_count": 8,
   "metadata": {
    "collapsed": false
   },
   "outputs": [
    {
     "data": {
      "text/markdown": [
       "```\n",
       "<UIView: 0x13de3ab30; frame = (0 0; 320 568); autoresize = W+H; layer = <CALayer: 0x13de3a4f0>>\n",
       "```\n",
       "<img src=\"images/0x13dd48210.view-JkWNfHd1e4.png?r&#61;JkWNfHd1e4\" alt=\"0x13dd48210.view\" style=\"width:160.0px; height: 284.0px;\" />"
      ],
      "text/plain": [
       "<UIView: 0x13de3ab30; frame = (0 0; 320 568); autoresize = W+H; layer = <CALayer: 0x13de3a4f0>>"
      ]
     },
     "execution_count": 8,
     "metadata": {},
     "output_type": "execute_result"
    }
   ],
   "source": [
    "@query iphone.view"
   ]
  },
  {
   "cell_type": "code",
   "execution_count": 9,
   "metadata": {
    "collapsed": false
   },
   "outputs": [
    {
     "data": {
      "text/markdown": [
       "```\n",
       "UIDeviceRGBColorSpace 0 0 1 1\n",
       "```\n"
      ],
      "text/plain": [
       "\"UIDeviceRGBColorSpace 0 0 1 1\""
      ]
     },
     "execution_count": 9,
     "metadata": {},
     "output_type": "execute_result"
    }
   ],
   "source": [
    "@query simul.view.backgroundColor = UIColor.blueColor()\n",
    "@query iphone.view.backgroundColor = simul.view.backgroundColor"
   ]
  },
  {
   "cell_type": "code",
   "execution_count": 10,
   "metadata": {
    "collapsed": false
   },
   "outputs": [
    {
     "data": {
      "text/markdown": [
       "```\n",
       "<UIView: 0x13de3ab30; frame = (0 0; 320 568); autoresize = W+H; layer = <CALayer: 0x13de3a4f0>>\n",
       "```\n",
       "<img src=\"images/0x13dd48210.view-PXgjPOaVcH.png?r&#61;PXgjPOaVcH\" alt=\"0x13dd48210.view\" style=\"width:160.0px; height: 284.0px;\" />"
      ],
      "text/plain": [
       "<UIView: 0x13de3ab30; frame = (0 0; 320 568); autoresize = W+H; layer = <CALayer: 0x13de3a4f0>>"
      ]
     },
     "execution_count": 10,
     "metadata": {},
     "output_type": "execute_result"
    }
   ],
   "source": [
    "@query iphone.view"
   ]
  },
  {
   "cell_type": "code",
   "execution_count": 11,
   "metadata": {
    "collapsed": false
   },
   "outputs": [],
   "source": [
    "for vc in [iphone, simul]\n",
    "    @query vc.view.backgroundColor = UIColor.whiteColor()\n",
    "end"
   ]
  },
  {
   "cell_type": "code",
   "execution_count": 12,
   "metadata": {
    "collapsed": false
   },
   "outputs": [
    {
     "data": {
      "text/markdown": [
       "```\n",
       "Swift\n",
       "```\n"
      ],
      "text/plain": [
       "\"Swift\""
      ]
     },
     "execution_count": 12,
     "metadata": {},
     "output_type": "execute_result"
    }
   ],
   "source": [
    "@query iphone.label.text = \"Julia\"\n",
    "@query simul.label.text = \"Swift\""
   ]
  },
  {
   "cell_type": "code",
   "execution_count": 13,
   "metadata": {
    "collapsed": false
   },
   "outputs": [
    {
     "data": {
      "text/markdown": [
       "```\n",
       "Julia\n",
       "```\n"
      ],
      "text/plain": [
       "\"Julia\""
      ]
     },
     "execution_count": 13,
     "metadata": {},
     "output_type": "execute_result"
    }
   ],
   "source": [
    "temporal = @query iphone.label.text\n",
    "@query iphone.label.text = simul.label.text\n",
    "@query simul.label.text = temporal"
   ]
  },
  {
   "cell_type": "code",
   "execution_count": 14,
   "metadata": {
    "collapsed": false
   },
   "outputs": [],
   "source": [
    "for vc in [iphone, simul]\n",
    "    @query vc.label.text = \"Julia & Swift\"\n",
    "end"
   ]
  },
  {
   "cell_type": "code",
   "execution_count": 15,
   "metadata": {
    "collapsed": false
   },
   "outputs": [
    {
     "data": {
      "text/markdown": [
       "```\n",
       "<UIView: 0x7f9393f14e00; frame = (0 0; 320 568); autoresize = W+H; layer = <CALayer: 0x7f9393f15180>>\n",
       "```\n",
       "<img src=\"images/0x7f9393e171c0.view-26hDGDWJ2x.png?r&#61;26hDGDWJ2x\" alt=\"0x7f9393e171c0.view\" style=\"width:160.0px; height: 284.0px;\" />"
      ],
      "text/plain": [
       "<UIView: 0x7f9393f14e00; frame = (0 0; 320 568); autoresize = W+H; layer = <CALayer: 0x7f9393f15180>>"
      ]
     },
     "execution_count": 15,
     "metadata": {},
     "output_type": "execute_result"
    }
   ],
   "source": [
    "@query simul.view"
   ]
  },
  {
   "cell_type": "code",
   "execution_count": 16,
   "metadata": {
    "collapsed": false
   },
   "outputs": [
    {
     "data": {
      "text/plain": [
       "false"
      ]
     },
     "execution_count": 16,
     "metadata": {},
     "output_type": "execute_result"
    }
   ],
   "source": [
    "ENV[\"SWIFTER_SAVE_IMAGE\"] = false"
   ]
  }
 ],
 "metadata": {
  "kernelspec": {
   "display_name": "Julia 0.5.0-dev",
   "language": "julia",
   "name": "julia-0.5"
  },
  "language_info": {
   "file_extension": ".jl",
   "mimetype": "application/julia",
   "name": "julia",
   "version": "0.5.0"
  }
 },
 "nbformat": 4,
 "nbformat_minor": 0
}
