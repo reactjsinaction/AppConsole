{
 "cells": [
  {
   "cell_type": "markdown",
   "metadata": {},
   "source": [
    "### iOS REPL with Swifter.jl + AppConsole\n",
    "\n",
    "* https://github.com/wookay/Swifter.jl\n",
    "\n",
    "* https://github.com/wookay/AppConsole\n"
   ]
  },
  {
   "cell_type": "code",
   "execution_count": 3,
   "metadata": {
    "collapsed": false
   },
   "outputs": [],
   "source": [
    "using Swifter"
   ]
  },
  {
   "cell_type": "code",
   "execution_count": 5,
   "metadata": {
    "collapsed": false
   },
   "outputs": [
    {
     "data": {
      "text/plain": [
       "Swifter.Memory(Swifter.App(\"http://localhost:8080\"),\"0x7ff643d511e0\")"
      ]
     },
     "execution_count": 5,
     "metadata": {},
     "output_type": "execute_result"
    }
   ],
   "source": [
    "vc = initial(\"http://localhost:8080\")"
   ]
  },
  {
   "cell_type": "code",
   "execution_count": 6,
   "metadata": {
    "collapsed": false,
    "scrolled": true
   },
   "outputs": [
    {
     "data": {
      "text/markdown": [
       "```\n",
       "<UIView: 0x7ff643c4ca50; frame = (0 0; 375 667); autoresize = W+H; layer = <CALayer: 0x7ff643c4cdd0>>\n",
       "```\n",
       "<img src=\"images/0x7ff643d511e0.view-KFuYMJ51nF.png?r&#61;KFuYMJ51nF\" alt=\"0x7ff643d511e0.view\" style=\"width:187.5px; height: 333.5px;\" />"
      ],
      "text/plain": [
       "<UIView: 0x7ff643c4ca50; frame = (0 0; 375 667); autoresize = W+H; layer = <CALayer: 0x7ff643c4cdd0>>"
      ]
     },
     "execution_count": 6,
     "metadata": {},
     "output_type": "execute_result"
    }
   ],
   "source": [
    "@query vc.view"
   ]
  },
  {
   "cell_type": "code",
   "execution_count": 7,
   "metadata": {
    "collapsed": false
   },
   "outputs": [
    {
     "data": {
      "text/markdown": [
       "```\n",
       "UIDeviceRGBColorSpace 1 1 0 1\n",
       "```\n"
      ],
      "text/plain": [
       "UIDeviceRGBColorSpace 1 1 0 1"
      ]
     },
     "execution_count": 7,
     "metadata": {},
     "output_type": "execute_result"
    }
   ],
   "source": [
    "@query vc.view.backgroundColor = UIColor.yellowColor()"
   ]
  },
  {
   "cell_type": "code",
   "execution_count": 8,
   "metadata": {
    "collapsed": false,
    "scrolled": true
   },
   "outputs": [
    {
     "data": {
      "text/markdown": [
       "```\n",
       "<UIView: 0x7ff643c4ca50; frame = (0 0; 375 667); autoresize = W+H; layer = <CALayer: 0x7ff643c4cdd0>>\n",
       "```\n",
       "<img src=\"images/0x7ff643d511e0.view-5ByOOOcYQY.png?r&#61;5ByOOOcYQY\" alt=\"0x7ff643d511e0.view\" style=\"width:187.5px; height: 333.5px;\" />"
      ],
      "text/plain": [
       "<UIView: 0x7ff643c4ca50; frame = (0 0; 375 667); autoresize = W+H; layer = <CALayer: 0x7ff643c4cdd0>>"
      ]
     },
     "execution_count": 8,
     "metadata": {},
     "output_type": "execute_result"
    }
   ],
   "source": [
    "@query vc.view"
   ]
  },
  {
   "cell_type": "code",
   "execution_count": 9,
   "metadata": {
    "collapsed": false
   },
   "outputs": [
    {
     "data": {
      "text/markdown": [
       "```\n",
       "{{0, 0}, {375, 667}}\n",
       "```\n"
      ],
      "text/plain": [
       "\"{{0, 0}, {375, 667}}\""
      ]
     },
     "execution_count": 9,
     "metadata": {},
     "output_type": "execute_result"
    }
   ],
   "source": [
    "@query vc.view.frame"
   ]
  },
  {
   "cell_type": "code",
   "execution_count": 10,
   "metadata": {
    "collapsed": false
   },
   "outputs": [
    {
     "data": {
      "text/markdown": [
       "```\n",
       "Hello world\n",
       "```\n"
      ],
      "text/plain": [
       "\"Hello world\""
      ]
     },
     "execution_count": 10,
     "metadata": {},
     "output_type": "execute_result"
    }
   ],
   "source": [
    "@query vc.label.text = \"Hello world\""
   ]
  },
  {
   "cell_type": "code",
   "execution_count": 11,
   "metadata": {
    "collapsed": false
   },
   "outputs": [
    {
     "data": {
      "text/markdown": [
       "```\n",
       "<UILabel: 0x7ff643eb5f90; frame = (20 100; 500 200); text = 'Hello world'; opaque = NO; autoresize = RM+BM; userInteractionEnabled = NO; layer = <_UILabelLayer: 0x7ff643eb4720>>\n",
       "```\n",
       "<img src=\"images/0x7ff643d511e0.label-IijLQ72Ykx.png?r&#61;IijLQ72Ykx\" alt=\"0x7ff643d511e0.label\" style=\"width:250.0px; height: 100.0px;\" />"
      ],
      "text/plain": [
       "<UILabel: 0x7ff643eb5f90; frame = (20 100; 500 200); text = 'Hello world'; opaque = NO; autoresize = RM+BM; userInteractionEnabled = NO; layer = <_UILabelLayer: 0x7ff643eb4720>>"
      ]
     },
     "execution_count": 11,
     "metadata": {},
     "output_type": "execute_result"
    }
   ],
   "source": [
    "@query vc.label"
   ]
  },
  {
   "cell_type": "code",
   "execution_count": 12,
   "metadata": {
    "collapsed": false
   },
   "outputs": [
    {
     "data": {
      "text/plain": [
       "\"Hello world 3\""
      ]
     },
     "execution_count": 12,
     "metadata": {},
     "output_type": "execute_result"
    }
   ],
   "source": [
    "t = \"Hello world $(1+2)\""
   ]
  },
  {
   "cell_type": "code",
   "execution_count": 13,
   "metadata": {
    "collapsed": false
   },
   "outputs": [
    {
     "data": {
      "text/markdown": [
       "```\n",
       "Hello world 3\n",
       "```\n"
      ],
      "text/plain": [
       "\"Hello world 3\""
      ]
     },
     "execution_count": 13,
     "metadata": {},
     "output_type": "execute_result"
    }
   ],
   "source": [
    "@query vc.label.text = t"
   ]
  },
  {
   "cell_type": "code",
   "execution_count": 14,
   "metadata": {
    "collapsed": false
   },
   "outputs": [
    {
     "data": {
      "text/markdown": [
       "```\n",
       "<UILabel: 0x7ff643eb5f90; frame = (20 100; 500 200); text = 'Hello world 3'; opaque = NO; autoresize = RM+BM; userInteractionEnabled = NO; layer = <_UILabelLayer: 0x7ff643eb4720>>\n",
       "```\n",
       "<img src=\"images/0x7ff643d511e0.label-IHaCUpe3KM.png?r&#61;IHaCUpe3KM\" alt=\"0x7ff643d511e0.label\" style=\"width:250.0px; height: 100.0px;\" />"
      ],
      "text/plain": [
       "<UILabel: 0x7ff643eb5f90; frame = (20 100; 500 200); text = 'Hello world 3'; opaque = NO; autoresize = RM+BM; userInteractionEnabled = NO; layer = <_UILabelLayer: 0x7ff643eb4720>>"
      ]
     },
     "execution_count": 14,
     "metadata": {},
     "output_type": "execute_result"
    }
   ],
   "source": [
    "@query vc.label"
   ]
  },
  {
   "cell_type": "code",
   "execution_count": 15,
   "metadata": {
    "collapsed": false
   },
   "outputs": [
    {
     "data": {
      "text/markdown": [
       "```\n",
       "UIDeviceRGBColorSpace 1 0.5 0 1\n",
       "```\n"
      ],
      "text/plain": [
       "UIDeviceRGBColorSpace 1 0.5 0 1"
      ]
     },
     "execution_count": 15,
     "metadata": {},
     "output_type": "execute_result"
    }
   ],
   "source": [
    "@query vc.label.backgroundColor = UIColor.orangeColor()"
   ]
  },
  {
   "cell_type": "code",
   "execution_count": 16,
   "metadata": {
    "collapsed": false
   },
   "outputs": [
    {
     "data": {
      "text/markdown": [
       "```\n",
       "<UILabel: 0x7ff643eb5f90; frame = (20 100; 500 200); text = 'Hello world 3'; opaque = NO; autoresize = RM+BM; userInteractionEnabled = NO; layer = <_UILabelLayer: 0x7ff643eb4720>>\n",
       "```\n",
       "<img src=\"images/0x7ff643d511e0.label-pgnmcGSpM1.png?r&#61;pgnmcGSpM1\" alt=\"0x7ff643d511e0.label\" style=\"width:250.0px; height: 100.0px;\" />"
      ],
      "text/plain": [
       "<UILabel: 0x7ff643eb5f90; frame = (20 100; 500 200); text = 'Hello world 3'; opaque = NO; autoresize = RM+BM; userInteractionEnabled = NO; layer = <_UILabelLayer: 0x7ff643eb4720>>"
      ]
     },
     "execution_count": 16,
     "metadata": {},
     "output_type": "execute_result"
    }
   ],
   "source": [
    "@query vc.label"
   ]
  },
  {
   "cell_type": "code",
   "execution_count": 17,
   "metadata": {
    "collapsed": false
   },
   "outputs": [
    {
     "data": {
      "text/markdown": [
       "```\n",
       "{{20, 300}, {700, 200}}\n",
       "```\n"
      ],
      "text/plain": [
       "\"{{20, 300}, {700, 200}}\""
      ]
     },
     "execution_count": 17,
     "metadata": {},
     "output_type": "execute_result"
    }
   ],
   "source": [
    "@query vc.label.frame = \"{{20, 300}, {700, 200}}\""
   ]
  },
  {
   "cell_type": "code",
   "execution_count": 18,
   "metadata": {
    "collapsed": false
   },
   "outputs": [
    {
     "data": {
      "text/markdown": [
       "```\n",
       "<UICTFont: 0x7ff643f202a0> font-family: \"Helvetica\"; font-weight: normal; font-style: normal; font-size: 50.00pt\n",
       "```\n"
      ],
      "text/plain": [
       "<UICTFont: 0x7ff643f202a0> font-family: \"Helvetica\"; font-weight: normal; font-style: normal; font-size: 50.00pt"
      ]
     },
     "execution_count": 18,
     "metadata": {},
     "output_type": "execute_result"
    }
   ],
   "source": [
    "@query vc.label.font = UIFont(name: \"Helvetica\", size: 50)"
   ]
  },
  {
   "cell_type": "code",
   "execution_count": 19,
   "metadata": {
    "collapsed": false
   },
   "outputs": [
    {
     "data": {
      "text/markdown": [
       "```\n",
       "<UILabel: 0x7ff643eb5f90; frame = (20 100; 500 200); text = 'Hello world 3'; opaque = NO; autoresize = RM+BM; userInteractionEnabled = NO; layer = <_UILabelLayer: 0x7ff643eb4720>>\n",
       "```\n",
       "<img src=\"images/0x7ff643d511e0.view.subviews.0-iShitBmAIF.png?r&#61;iShitBmAIF\" alt=\"0x7ff643d511e0.view.subviews.0\" style=\"width:250.0px; height: 100.0px;\" />"
      ],
      "text/plain": [
       "<UILabel: 0x7ff643eb5f90; frame = (20 100; 500 200); text = 'Hello world 3'; opaque = NO; autoresize = RM+BM; userInteractionEnabled = NO; layer = <_UILabelLayer: 0x7ff643eb4720>>"
      ]
     },
     "execution_count": 19,
     "metadata": {},
     "output_type": "execute_result"
    }
   ],
   "source": [
    "@query vc.view.subviews[0]"
   ]
  },
  {
   "cell_type": "code",
   "execution_count": 20,
   "metadata": {
    "collapsed": false
   },
   "outputs": [
    {
     "data": {
      "text/markdown": [
       "```\n",
       "<UIScreen: 0x7ff643e04a40; bounds = {{0, 0}, {375, 667}}; mode = <UIScreenMode: 0x7ff643e04f10; size = 750.000000 x 1334.000000>>\n",
       "```\n",
       "<img src=\"images/UIScreen.mainScreen-5MgnGOdrMX.png?r&#61;5MgnGOdrMX\" alt=\"UIScreen.mainScreen\" style=\"width:187.5px; height: 333.5px;\" />"
      ],
      "text/plain": [
       "<UIScreen: 0x7ff643e04a40; bounds = {{0, 0}, {375, 667}}; mode = <UIScreenMode: 0x7ff643e04f10; size = 750.000000 x 1334.000000>>"
      ]
     },
     "execution_count": 20,
     "metadata": {},
     "output_type": "execute_result"
    }
   ],
   "source": [
    "@query UIScreen.mainScreen()"
   ]
  },
  {
   "cell_type": "code",
   "execution_count": 21,
   "metadata": {
    "collapsed": false
   },
   "outputs": [
    {
     "data": {
      "text/plain": [
       "(0,1,2)"
      ]
     },
     "execution_count": 21,
     "metadata": {},
     "output_type": "execute_result"
    }
   ],
   "source": [
    "(Left, Center, Right) = (0, 1, 2)"
   ]
  },
  {
   "cell_type": "code",
   "execution_count": 22,
   "metadata": {
    "collapsed": false
   },
   "outputs": [
    {
     "data": {
      "text/markdown": [
       "```\n",
       "2\n",
       "```\n"
      ],
      "text/plain": [
       "2"
      ]
     },
     "execution_count": 22,
     "metadata": {},
     "output_type": "execute_result"
    }
   ],
   "source": [
    "@query vc.label.textAlignment = Right"
   ]
  },
  {
   "cell_type": "code",
   "execution_count": 23,
   "metadata": {
    "collapsed": false
   },
   "outputs": [
    {
     "data": {
      "text/markdown": [
       "```\n",
       "<UIScreen: 0x7ff643e04a40; bounds = {{0, 0}, {375, 667}}; mode = <UIScreenMode: 0x7ff643e04f10; size = 750.000000 x 1334.000000>>\n",
       "```\n",
       "<img src=\"images/UIScreen.mainScreen-TEjaubvRWz.png?r&#61;TEjaubvRWz\" alt=\"UIScreen.mainScreen\" style=\"width:187.5px; height: 333.5px;\" />"
      ],
      "text/plain": [
       "<UIScreen: 0x7ff643e04a40; bounds = {{0, 0}, {375, 667}}; mode = <UIScreenMode: 0x7ff643e04f10; size = 750.000000 x 1334.000000>>"
      ]
     },
     "execution_count": 23,
     "metadata": {},
     "output_type": "execute_result"
    }
   ],
   "source": [
    "@query UIScreen.mainScreen()"
   ]
  },
  {
   "cell_type": "code",
   "execution_count": 24,
   "metadata": {
    "collapsed": false
   },
   "outputs": [
    {
     "data": {
      "text/plain": [
       "false"
      ]
     },
     "execution_count": 24,
     "metadata": {},
     "output_type": "execute_result"
    }
   ],
   "source": [
    "ENV[\"SWIFTER_SAVE_IMAGE\"] = false"
   ]
  },
  {
   "cell_type": "code",
   "execution_count": null,
   "metadata": {
    "collapsed": true
   },
   "outputs": [],
   "source": []
  }
 ],
 "metadata": {
  "kernelspec": {
   "display_name": "Julia 0.5.0-dev",
   "language": "julia",
   "name": "julia-0.5"
  },
  "language_info": {
   "file_extension": ".jl",
   "mimetype": "application/julia",
   "name": "julia",
   "version": "0.5.0"
  }
 },
 "nbformat": 4,
 "nbformat_minor": 0
}
