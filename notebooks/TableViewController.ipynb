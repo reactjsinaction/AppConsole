{
 "cells": [
  {
   "cell_type": "markdown",
   "metadata": {},
   "source": [
    "# TableViewController example"
   ]
  },
  {
   "cell_type": "markdown",
   "metadata": {},
   "source": [
    "### iOS REPL with Swifter.jl + AppConsole\n",
    "\n",
    "* https://github.com/wookay/Swifter.jl\n",
    "\n",
    "* https://github.com/wookay/AppConsole"
   ]
  },
  {
   "cell_type": "markdown",
   "metadata": {},
   "source": [
    "* open AppConsole/Demo/TableViewController/TableViewController.xcworkspace\n",
    "\n",
    "```swift\n",
    "// part of RootViewController.swift\n",
    "class RootViewController: UITableViewController {\n",
    "\n",
    "    override func viewDidLoad() {\n",
    "        super.viewDidLoad()\n",
    "        // Do any additional setup after loading the view, typically from a nib.\n",
    "        \n",
    "        self.title = AppConsole(initial: self).run()\n",
    "    }\n",
    "\n",
    "    ...\n",
    "```\n",
    "\n",
    "* Run"
   ]
  },
  {
   "cell_type": "code",
   "execution_count": 1,
   "metadata": {
    "collapsed": false
   },
   "outputs": [],
   "source": [
    "using Swifter"
   ]
  },
  {
   "cell_type": "code",
   "execution_count": 2,
   "metadata": {
    "collapsed": false,
    "scrolled": true
   },
   "outputs": [
    {
     "data": {
      "text/markdown": [
       "```\n",
       "<TableViewController.RootViewController: 0x7fabe3555bf0>\n",
       "```\n"
      ],
      "text/plain": [
       "<TableViewController.RootViewController: 0x7fabe3555bf0>"
      ]
     },
     "execution_count": 2,
     "metadata": {},
     "output_type": "execute_result"
    }
   ],
   "source": [
    "vc = initial(\"http://localhost:8080\")"
   ]
  },
  {
   "cell_type": "code",
   "execution_count": 3,
   "metadata": {
    "collapsed": false
   },
   "outputs": [
    {
     "data": {
      "text/markdown": [
       "```\n",
       "<UIScreen: 0x7fabe3601e80; bounds = {{0, 0}, {320, 568}}; mode = <UIScreenMode: 0x7fabe3602390; size = 640.000000 x 1136.000000>>\n",
       "```\n",
       "<img src=\"images/UIScreen.mainScreen-m0xAz9atE8.png?r&#61;m0xAz9atE8\" alt=\"UIScreen.mainScreen\" style=\"width:160.0px; height: 284.0px;\" />"
      ],
      "text/plain": [
       "<UIScreen: 0x7fabe3601e80; bounds = {{0, 0}, {320, 568}}; mode = <UIScreenMode: 0x7fabe3602390; size = 640.000000 x 1136.000000>>"
      ]
     },
     "execution_count": 3,
     "metadata": {},
     "output_type": "execute_result"
    }
   ],
   "source": [
    "@query UIScreen.mainScreen()"
   ]
  },
  {
   "cell_type": "markdown",
   "metadata": {},
   "source": [
    "### tap(section: Int, row: Int)"
   ]
  },
  {
   "cell_type": "code",
   "execution_count": 4,
   "metadata": {
    "collapsed": false
   },
   "outputs": [
    {
     "data": {
      "text/markdown": [],
      "text/plain": []
     },
     "execution_count": 4,
     "metadata": {},
     "output_type": "execute_result"
    }
   ],
   "source": [
    "@query vc.tableView.tap(section: 0, row: 1)"
   ]
  },
  {
   "cell_type": "code",
   "execution_count": 5,
   "metadata": {
    "collapsed": false
   },
   "outputs": [
    {
     "data": {
      "text/markdown": [
       "```\n",
       "<UIScreen: 0x7fabe3601e80; bounds = {{0, 0}, {320, 568}}; mode = <UIScreenMode: 0x7fabe3602390; size = 640.000000 x 1136.000000>>\n",
       "```\n",
       "<img src=\"images/UIScreen.mainScreen-GxnJvDeVud.png?r&#61;GxnJvDeVud\" alt=\"UIScreen.mainScreen\" style=\"width:160.0px; height: 284.0px;\" />"
      ],
      "text/plain": [
       "<UIScreen: 0x7fabe3601e80; bounds = {{0, 0}, {320, 568}}; mode = <UIScreenMode: 0x7fabe3602390; size = 640.000000 x 1136.000000>>"
      ]
     },
     "execution_count": 5,
     "metadata": {},
     "output_type": "execute_result"
    }
   ],
   "source": [
    "@query UIScreen.mainScreen()"
   ]
  },
  {
   "cell_type": "code",
   "execution_count": 6,
   "metadata": {
    "collapsed": false
   },
   "outputs": [
    {
     "data": {
      "text/markdown": [],
      "text/plain": []
     },
     "execution_count": 6,
     "metadata": {},
     "output_type": "execute_result"
    }
   ],
   "source": [
    "@query vc.navigationController.pop()"
   ]
  },
  {
   "cell_type": "code",
   "execution_count": 7,
   "metadata": {
    "collapsed": false
   },
   "outputs": [
    {
     "data": {
      "text/markdown": [
       "```\n",
       "<UIScreen: 0x7fabe3601e80; bounds = {{0, 0}, {320, 568}}; mode = <UIScreenMode: 0x7fabe3602390; size = 640.000000 x 1136.000000>>\n",
       "```\n",
       "<img src=\"images/UIScreen.mainScreen-9nSfmry0hq.png?r&#61;9nSfmry0hq\" alt=\"UIScreen.mainScreen\" style=\"width:160.0px; height: 284.0px;\" />"
      ],
      "text/plain": [
       "<UIScreen: 0x7fabe3601e80; bounds = {{0, 0}, {320, 568}}; mode = <UIScreenMode: 0x7fabe3602390; size = 640.000000 x 1136.000000>>"
      ]
     },
     "execution_count": 7,
     "metadata": {},
     "output_type": "execute_result"
    }
   ],
   "source": [
    "@query UIScreen.mainScreen()"
   ]
  },
  {
   "cell_type": "markdown",
   "metadata": {},
   "source": [
    "### tap(index: Int)"
   ]
  },
  {
   "cell_type": "code",
   "execution_count": 8,
   "metadata": {
    "collapsed": false
   },
   "outputs": [
    {
     "data": {
      "text/markdown": [],
      "text/plain": []
     },
     "execution_count": 8,
     "metadata": {},
     "output_type": "execute_result"
    }
   ],
   "source": [
    "@query vc.tableView.tap(index: 2)"
   ]
  },
  {
   "cell_type": "code",
   "execution_count": 9,
   "metadata": {
    "collapsed": false
   },
   "outputs": [
    {
     "data": {
      "text/markdown": [
       "```\n",
       "<UIScreen: 0x7fabe3601e80; bounds = {{0, 0}, {320, 568}}; mode = <UIScreenMode: 0x7fabe3602390; size = 640.000000 x 1136.000000>>\n",
       "```\n",
       "<img src=\"images/UIScreen.mainScreen-CWiiz905EF.png?r&#61;CWiiz905EF\" alt=\"UIScreen.mainScreen\" style=\"width:160.0px; height: 284.0px;\" />"
      ],
      "text/plain": [
       "<UIScreen: 0x7fabe3601e80; bounds = {{0, 0}, {320, 568}}; mode = <UIScreenMode: 0x7fabe3602390; size = 640.000000 x 1136.000000>>"
      ]
     },
     "execution_count": 9,
     "metadata": {},
     "output_type": "execute_result"
    }
   ],
   "source": [
    "@query UIScreen.mainScreen()"
   ]
  },
  {
   "cell_type": "code",
   "execution_count": 10,
   "metadata": {
    "collapsed": false
   },
   "outputs": [
    {
     "data": {
      "text/markdown": [],
      "text/plain": []
     },
     "execution_count": 10,
     "metadata": {},
     "output_type": "execute_result"
    }
   ],
   "source": [
    "@query vc.navigationController.pop()"
   ]
  },
  {
   "cell_type": "markdown",
   "metadata": {},
   "source": [
    "### tap(text: String)"
   ]
  },
  {
   "cell_type": "code",
   "execution_count": 11,
   "metadata": {
    "collapsed": false
   },
   "outputs": [
    {
     "data": {
      "text/markdown": [],
      "text/plain": []
     },
     "execution_count": 11,
     "metadata": {},
     "output_type": "execute_result"
    }
   ],
   "source": [
    "@query vc.tableView.tap(text: \"cyan\")"
   ]
  },
  {
   "cell_type": "code",
   "execution_count": 12,
   "metadata": {
    "collapsed": false
   },
   "outputs": [
    {
     "data": {
      "text/markdown": [
       "```\n",
       "<UIScreen: 0x7fabe3601e80; bounds = {{0, 0}, {320, 568}}; mode = <UIScreenMode: 0x7fabe3602390; size = 640.000000 x 1136.000000>>\n",
       "```\n",
       "<img src=\"images/UIScreen.mainScreen-diF6JLoaDQ.png?r&#61;diF6JLoaDQ\" alt=\"UIScreen.mainScreen\" style=\"width:160.0px; height: 284.0px;\" />"
      ],
      "text/plain": [
       "<UIScreen: 0x7fabe3601e80; bounds = {{0, 0}, {320, 568}}; mode = <UIScreenMode: 0x7fabe3602390; size = 640.000000 x 1136.000000>>"
      ]
     },
     "execution_count": 12,
     "metadata": {},
     "output_type": "execute_result"
    }
   ],
   "source": [
    "@query UIScreen.mainScreen()"
   ]
  },
  {
   "cell_type": "code",
   "execution_count": 13,
   "metadata": {
    "collapsed": false
   },
   "outputs": [
    {
     "data": {
      "text/markdown": [],
      "text/plain": []
     },
     "execution_count": 13,
     "metadata": {},
     "output_type": "execute_result"
    }
   ],
   "source": [
    "@query vc.navigationController.pop()"
   ]
  },
  {
   "cell_type": "code",
   "execution_count": 14,
   "metadata": {
    "collapsed": false
   },
   "outputs": [
    {
     "data": {
      "text/plain": [
       "false"
      ]
     },
     "execution_count": 14,
     "metadata": {},
     "output_type": "execute_result"
    }
   ],
   "source": [
    "ENV[\"SWIFTER_SAVE_IMAGE\"] = false"
   ]
  }
 ],
 "metadata": {
  "kernelspec": {
   "display_name": "Julia 0.4.5",
   "language": "julia",
   "name": "julia-0.4"
  },
  "language_info": {
   "file_extension": ".jl",
   "mimetype": "application/julia",
   "name": "julia",
   "version": "0.4.5"
  }
 },
 "nbformat": 4,
 "nbformat_minor": 0
}
