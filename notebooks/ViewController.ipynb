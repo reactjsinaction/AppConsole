{
 "cells": [
  {
   "cell_type": "markdown",
   "metadata": {},
   "source": [
    "# ViewController example"
   ]
  },
  {
   "cell_type": "markdown",
   "metadata": {},
   "source": [
    "### iOS REPL with Swifter.jl + AppConsole\n",
    "\n",
    "* https://github.com/wookay/Swifter.jl\n",
    "\n",
    "* https://github.com/wookay/AppConsole"
   ]
  },
  {
   "cell_type": "markdown",
   "metadata": {},
   "source": [
    "* open AppConsole/Demo/ViewController/ViewController.xcworkspace\n",
    "```swift\n",
    "// part of ViewController.swift\n",
    "class ViewController: UIViewController {\n",
    "    @IBOutlet var label: UILabel!\n",
    "    \n",
    "    override func viewDidLoad() {\n",
    "        super.viewDidLoad()\n",
    "        // Do any additional setup after loading the view, typically from a nib.\n",
    "        \n",
    "        label.text = AppConsole(initial: self).run()\n",
    "    }\n",
    "\n",
    "    ...\n",
    "```\n",
    "* Run"
   ]
  },
  {
   "cell_type": "code",
   "execution_count": 1,
   "metadata": {
    "collapsed": false
   },
   "outputs": [],
   "source": [
    "using Swifter"
   ]
  },
  {
   "cell_type": "code",
   "execution_count": 2,
   "metadata": {
    "collapsed": false
   },
   "outputs": [
    {
     "data": {
      "text/markdown": [
       "```\n",
       "<ViewController.ViewController: 0x7f99cbead550>\n",
       "```\n"
      ],
      "text/plain": [
       "<ViewController.ViewController: 0x7f99cbead550>"
      ]
     },
     "execution_count": 2,
     "metadata": {},
     "output_type": "execute_result"
    }
   ],
   "source": [
    "vc = initial(\"http://localhost:8080\")"
   ]
  },
  {
   "cell_type": "code",
   "execution_count": 3,
   "metadata": {
    "collapsed": false,
    "scrolled": true
   },
   "outputs": [
    {
     "data": {
      "text/markdown": [
       "```\n",
       "<UIView: 0x7f99cbd15260; frame = (0 0; 320 568); autoresize = W+H; layer = <CALayer: 0x7f99cbd155e0>>\n",
       "```\n",
       "<img src=\"images/0x7f99cbead550.view-58WTgECnXk.png?r&#61;58WTgECnXk\" alt=\"0x7f99cbead550.view\" style=\"width:160.0px; height: 284.0px;\" />"
      ],
      "text/plain": [
       "<UIView: 0x7f99cbd15260; frame = (0 0; 320 568); autoresize = W+H; layer = <CALayer: 0x7f99cbd155e0>>"
      ]
     },
     "execution_count": 3,
     "metadata": {},
     "output_type": "execute_result"
    }
   ],
   "source": [
    "@query vc.view"
   ]
  },
  {
   "cell_type": "code",
   "execution_count": 4,
   "metadata": {
    "collapsed": false
   },
   "outputs": [
    {
     "data": {
      "text/markdown": [
       "```\n",
       "UIDeviceRGBColorSpace 1 1 0 1\n",
       "```\n"
      ],
      "text/plain": [
       "UIDeviceRGBColorSpace 1 1 0 1"
      ]
     },
     "execution_count": 4,
     "metadata": {},
     "output_type": "execute_result"
    }
   ],
   "source": [
    "@query vc.view.backgroundColor = UIColor.yellowColor()"
   ]
  },
  {
   "cell_type": "code",
   "execution_count": 5,
   "metadata": {
    "collapsed": false
   },
   "outputs": [
    {
     "data": {
      "text/markdown": [
       "```\n",
       "<UIView: 0x7f99cbd15260; frame = (0 0; 320 568); autoresize = W+H; layer = <CALayer: 0x7f99cbd155e0>>\n",
       "```\n",
       "<img src=\"images/0x7f99cbead550.view-3W8060rXyQ.png?r&#61;3W8060rXyQ\" alt=\"0x7f99cbead550.view\" style=\"width:160.0px; height: 284.0px;\" />"
      ],
      "text/plain": [
       "<UIView: 0x7f99cbd15260; frame = (0 0; 320 568); autoresize = W+H; layer = <CALayer: 0x7f99cbd155e0>>"
      ]
     },
     "execution_count": 5,
     "metadata": {},
     "output_type": "execute_result"
    }
   ],
   "source": [
    "@query vc.view"
   ]
  },
  {
   "cell_type": "code",
   "execution_count": 6,
   "metadata": {
    "collapsed": false
   },
   "outputs": [
    {
     "data": {
      "text/markdown": [
       "```\n",
       "Hello Swift\n",
       "```\n"
      ],
      "text/plain": [
       "\"Hello Swift\""
      ]
     },
     "execution_count": 6,
     "metadata": {},
     "output_type": "execute_result"
    }
   ],
   "source": [
    "@query vc.label.text = \"Hello Swift\""
   ]
  },
  {
   "cell_type": "code",
   "execution_count": 7,
   "metadata": {
    "collapsed": false
   },
   "outputs": [
    {
     "data": {
      "text/markdown": [
       "```\n",
       "2\n",
       "```\n"
      ],
      "text/plain": [
       "2"
      ]
     },
     "execution_count": 7,
     "metadata": {},
     "output_type": "execute_result"
    }
   ],
   "source": [
    "@query vc.label.numberOfLines"
   ]
  },
  {
   "cell_type": "code",
   "execution_count": 8,
   "metadata": {
    "collapsed": false
   },
   "outputs": [
    {
     "data": {
      "text/markdown": [
       "```\n",
       "Hello Swift\n",
       "Hello Julia\n",
       "```\n"
      ],
      "text/plain": [
       "\"Hello Swift\\nHello Julia\""
      ]
     },
     "execution_count": 8,
     "metadata": {},
     "output_type": "execute_result"
    }
   ],
   "source": [
    "@query vc.label.text = \"Hello Swift\\nHello Julia\""
   ]
  },
  {
   "cell_type": "code",
   "execution_count": 9,
   "metadata": {
    "collapsed": false
   },
   "outputs": [
    {
     "data": {
      "text/markdown": [
       "```\n",
       "<UICTFont: 0x7f99cbc09240> font-family: \"Helvetica\"; font-weight: normal; font-style: normal; font-size: 35.00pt\n",
       "```\n"
      ],
      "text/plain": [
       "<UICTFont: 0x7f99cbc09240> font-family: \"Helvetica\"; font-weight: normal; font-style: normal; font-size: 35.00pt"
      ]
     },
     "execution_count": 9,
     "metadata": {},
     "output_type": "execute_result"
    }
   ],
   "source": [
    "@query vc.label.font = UIFont(name: \"Helvetica\", size: 35)"
   ]
  },
  {
   "cell_type": "code",
   "execution_count": 10,
   "metadata": {
    "collapsed": false
   },
   "outputs": [
    {
     "data": {
      "text/markdown": [
       "```\n",
       "<UILabel: 0x7f99cbc0cd40; frame = (20 100; 500 200); text = 'Hello Swift\n",
       "Hello Julia'; opaque = NO; autoresize = RM+BM; userInteractionEnabled = NO; layer = <_UILabelLayer: 0x7f99cbd0cb90>>\n",
       "```\n",
       "<img src=\"images/0x7f99cbead550.label-UBbXbPj2h1.png?r&#61;UBbXbPj2h1\" alt=\"0x7f99cbead550.label\" style=\"width:250.0px; height: 100.0px;\" />"
      ],
      "text/plain": [
       "<UILabel: 0x7f99cbc0cd40; frame = (20 100; 500 200); text = 'Hello Swift\n",
       "Hello Julia'; opaque = NO; autoresize = RM+BM; userInteractionEnabled = NO; layer = <_UILabelLayer: 0x7f99cbd0cb90>>"
      ]
     },
     "execution_count": 10,
     "metadata": {},
     "output_type": "execute_result"
    }
   ],
   "source": [
    "@query vc.label"
   ]
  },
  {
   "cell_type": "code",
   "execution_count": 11,
   "metadata": {
    "collapsed": false
   },
   "outputs": [
    {
     "data": {
      "text/markdown": [
       "```\n",
       "UIDeviceRGBColorSpace 0 1 1 1\n",
       "```\n"
      ],
      "text/plain": [
       "UIDeviceRGBColorSpace 0 1 1 1"
      ]
     },
     "execution_count": 11,
     "metadata": {},
     "output_type": "execute_result"
    }
   ],
   "source": [
    "@query vc.label.backgroundColor = UIColor.cyanColor()"
   ]
  },
  {
   "cell_type": "code",
   "execution_count": 12,
   "metadata": {
    "collapsed": false
   },
   "outputs": [
    {
     "data": {
      "text/markdown": [
       "```\n",
       "<UILabel: 0x7f99cbc0cd40; frame = (20 100; 500 200); text = 'Hello Swift\n",
       "Hello Julia'; opaque = NO; autoresize = RM+BM; userInteractionEnabled = NO; layer = <_UILabelLayer: 0x7f99cbd0cb90>>\n",
       "```\n",
       "<img src=\"images/0x7f99cbead550.label-VbcGVxUNxQ.png?r&#61;VbcGVxUNxQ\" alt=\"0x7f99cbead550.label\" style=\"width:250.0px; height: 100.0px;\" />"
      ],
      "text/plain": [
       "<UILabel: 0x7f99cbc0cd40; frame = (20 100; 500 200); text = 'Hello Swift\n",
       "Hello Julia'; opaque = NO; autoresize = RM+BM; userInteractionEnabled = NO; layer = <_UILabelLayer: 0x7f99cbd0cb90>>"
      ]
     },
     "execution_count": 12,
     "metadata": {},
     "output_type": "execute_result"
    }
   ],
   "source": [
    "@query vc.label"
   ]
  },
  {
   "cell_type": "code",
   "execution_count": 13,
   "metadata": {
    "collapsed": false
   },
   "outputs": [
    {
     "data": {
      "text/markdown": [
       "  * &lt;UILabel: 0x7f99cbc0cd40; frame &#61; &#40;20 100; 500 200&#41;; text &#61; &#39;Hello Swift\n",
       "Hello Julia&#39;; opaque &#61; NO; autoresize &#61; RM&#43;BM; userInteractionEnabled &#61; NO; layer &#61; &lt;_UILabelLayer: 0x7f99cbd0cb90&gt;&gt;\n",
       "  * &lt;_UILayoutGuide: 0x7f99cbd15650; frame &#61; &#40;0 0; 0 20&#41;; hidden &#61; YES; layer &#61; &lt;CALayer: 0x7f99cbd15a60&gt;&gt;\n",
       "  * &lt;_UILayoutGuide: 0x7f99cbd16420; frame &#61; &#40;0 568; 0 0&#41;; hidden &#61; YES; layer &#61; &lt;CALayer: 0x7f99cbd165b0&gt;&gt;\n"
      ],
      "text/plain": [
       "0\u001b[0m <UILabel: 0x7f99cbc0cd40; frame = (20 100; 500 200); text = 'Hello Swift\n",
       "Hello Julia'; opaque = NO; autoresize = RM+BM; userInteractionEnabled = NO; layer = <_UILabelLayer: 0x7f99cbd0cb90>>\n",
       "1\u001b[0m <_UILayoutGuide: 0x7f99cbd15650; frame = (0 0; 0 20); hidden = YES; layer = <CALayer: 0x7f99cbd15a60>>\n",
       "2\u001b[0m <_UILayoutGuide: 0x7f99cbd16420; frame = (0 568; 0 0); hidden = YES; layer = <CALayer: 0x7f99cbd165b0>>"
      ]
     },
     "execution_count": 13,
     "metadata": {},
     "output_type": "execute_result"
    }
   ],
   "source": [
    "@query vc.view.subviews"
   ]
  },
  {
   "cell_type": "code",
   "execution_count": 14,
   "metadata": {
    "collapsed": false
   },
   "outputs": [
    {
     "data": {
      "text/markdown": [
       "```\n",
       "UIDeviceRGBColorSpace 1 0.5 0 1\n",
       "```\n"
      ],
      "text/plain": [
       "UIDeviceRGBColorSpace 1 0.5 0 1"
      ]
     },
     "execution_count": 14,
     "metadata": {},
     "output_type": "execute_result"
    }
   ],
   "source": [
    "@query vc.view.subviews[0].backgroundColor = UIColor.orangeColor()"
   ]
  },
  {
   "cell_type": "code",
   "execution_count": 15,
   "metadata": {
    "collapsed": false
   },
   "outputs": [
    {
     "data": {
      "text/markdown": [
       "```\n",
       "<UIView: 0x7f99cbd15260; frame = (0 0; 320 568); autoresize = W+H; layer = <CALayer: 0x7f99cbd155e0>>\n",
       "```\n",
       "<img src=\"images/0x7f99cbead550.view-9sF6zH4UyV.png?r&#61;9sF6zH4UyV\" alt=\"0x7f99cbead550.view\" style=\"width:160.0px; height: 284.0px;\" />"
      ],
      "text/plain": [
       "<UIView: 0x7f99cbd15260; frame = (0 0; 320 568); autoresize = W+H; layer = <CALayer: 0x7f99cbd155e0>>"
      ]
     },
     "execution_count": 15,
     "metadata": {},
     "output_type": "execute_result"
    }
   ],
   "source": [
    "@query vc.view"
   ]
  },
  {
   "cell_type": "code",
   "execution_count": 16,
   "metadata": {
    "collapsed": false
   },
   "outputs": [
    {
     "data": {
      "text/plain": [
       "(0,1,2)"
      ]
     },
     "execution_count": 16,
     "metadata": {},
     "output_type": "execute_result"
    }
   ],
   "source": [
    "(Left, Center, Right) = (0, 1, 2)"
   ]
  },
  {
   "cell_type": "code",
   "execution_count": 17,
   "metadata": {
    "collapsed": false
   },
   "outputs": [
    {
     "data": {
      "text/markdown": [
       "```\n",
       "0\n",
       "```\n"
      ],
      "text/plain": [
       "0"
      ]
     },
     "execution_count": 17,
     "metadata": {},
     "output_type": "execute_result"
    }
   ],
   "source": [
    "@query vc.label.textAlignment"
   ]
  },
  {
   "cell_type": "code",
   "execution_count": 18,
   "metadata": {
    "collapsed": false
   },
   "outputs": [
    {
     "data": {
      "text/markdown": [],
      "text/plain": []
     },
     "execution_count": 18,
     "metadata": {},
     "output_type": "execute_result"
    }
   ],
   "source": [
    "@query vc.label.textAlignment = Center"
   ]
  },
  {
   "cell_type": "code",
   "execution_count": 19,
   "metadata": {
    "collapsed": false
   },
   "outputs": [
    {
     "data": {
      "text/markdown": [
       "```\n",
       "{{20, 100}, {500, 200}}\n",
       "```\n"
      ],
      "text/plain": [
       "\"{{20, 100}, {500, 200}}\""
      ]
     },
     "execution_count": 19,
     "metadata": {},
     "output_type": "execute_result"
    }
   ],
   "source": [
    "@query vc.label.frame"
   ]
  },
  {
   "cell_type": "code",
   "execution_count": 20,
   "metadata": {
    "collapsed": false
   },
   "outputs": [
    {
     "data": {
      "text/markdown": [
       "```\n",
       "{{20, 300}, {280, 200}}\n",
       "```\n"
      ],
      "text/plain": [
       "\"{{20, 300}, {280, 200}}\""
      ]
     },
     "execution_count": 20,
     "metadata": {},
     "output_type": "execute_result"
    }
   ],
   "source": [
    "@query vc.label.frame = \"{{20, 300}, {280, 200}}\""
   ]
  },
  {
   "cell_type": "code",
   "execution_count": 21,
   "metadata": {
    "collapsed": false
   },
   "outputs": [
    {
     "data": {
      "text/markdown": [
       "```\n",
       "<UIScreen: 0x7f99cbe08360; bounds = {{0, 0}, {320, 568}}; mode = <UIScreenMode: 0x7f99cbe08820; size = 640.000000 x 1136.000000>>\n",
       "```\n",
       "<img src=\"images/UIScreen.mainScreen-uKdgHWtkX2.png?r&#61;uKdgHWtkX2\" alt=\"UIScreen.mainScreen\" style=\"width:160.0px; height: 284.0px;\" />"
      ],
      "text/plain": [
       "<UIScreen: 0x7f99cbe08360; bounds = {{0, 0}, {320, 568}}; mode = <UIScreenMode: 0x7f99cbe08820; size = 640.000000 x 1136.000000>>"
      ]
     },
     "execution_count": 21,
     "metadata": {},
     "output_type": "execute_result"
    }
   ],
   "source": [
    "@query UIScreen.mainScreen()"
   ]
  },
  {
   "cell_type": "code",
   "execution_count": 22,
   "metadata": {
    "collapsed": false
   },
   "outputs": [
    {
     "data": {
      "text/plain": [
       "false"
      ]
     },
     "execution_count": 22,
     "metadata": {},
     "output_type": "execute_result"
    }
   ],
   "source": [
    "ENV[\"SWIFTER_SAVE_IMAGE\"] = false"
   ]
  }
 ],
 "metadata": {
  "kernelspec": {
   "display_name": "Julia 0.4.5",
   "language": "julia",
   "name": "julia-0.4"
  },
  "language_info": {
   "file_extension": ".jl",
   "mimetype": "application/julia",
   "name": "julia",
   "version": "0.4.5"
  }
 },
 "nbformat": 4,
 "nbformat_minor": 0
}
