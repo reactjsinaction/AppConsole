{
 "cells": [
  {
   "cell_type": "markdown",
   "metadata": {},
   "source": [
    "# TableViewController example"
   ]
  },
  {
   "cell_type": "markdown",
   "metadata": {},
   "source": [
    "### iOS REPL with Swifter.jl + AppConsole\n",
    "\n",
    "* https://github.com/wookay/Swifter.jl\n",
    "\n",
    "* https://github.com/wookay/AppConsole"
   ]
  },
  {
   "cell_type": "markdown",
   "metadata": {},
   "source": [
    "* open Demo/TableViewController/TableViewController.xcworkspace\n",
    "* Run"
   ]
  },
  {
   "cell_type": "code",
   "execution_count": 1,
   "metadata": {
    "collapsed": false
   },
   "outputs": [],
   "source": [
    "using Swifter"
   ]
  },
  {
   "cell_type": "code",
   "execution_count": 2,
   "metadata": {
    "collapsed": false,
    "scrolled": true
   },
   "outputs": [
    {
     "data": {
      "text/markdown": [
       "```\n",
       "<TableViewController.RootViewController: 0x7fa2a3418410>\n",
       "```\n"
      ],
      "text/plain": [
       "<TableViewController.RootViewController: 0x7fa2a3418410>"
      ]
     },
     "execution_count": 2,
     "metadata": {},
     "output_type": "execute_result"
    }
   ],
   "source": [
    "vc = initial(\"http://localhost:8080\")"
   ]
  },
  {
   "cell_type": "code",
   "execution_count": 3,
   "metadata": {
    "collapsed": false
   },
   "outputs": [
    {
     "data": {
      "text/markdown": [
       "```\n",
       "<UIScreen: 0x7fa2a350f160; bounds = {{0, 0}, {320, 568}}; mode = <UIScreenMode: 0x7fa2a350f560; size = 640.000000 x 1136.000000>>\n",
       "```\n",
       "<img src=\"images/UIScreen.mainScreen-nnqPtWFUHQ.png?r&#61;nnqPtWFUHQ\" alt=\"UIScreen.mainScreen\" style=\"width:160.0px; height: 284.0px;\" />"
      ],
      "text/plain": [
       "<UIScreen: 0x7fa2a350f160; bounds = {{0, 0}, {320, 568}}; mode = <UIScreenMode: 0x7fa2a350f560; size = 640.000000 x 1136.000000>>"
      ]
     },
     "execution_count": 3,
     "metadata": {},
     "output_type": "execute_result"
    }
   ],
   "source": [
    "@query UIScreen.mainScreen()"
   ]
  },
  {
   "cell_type": "markdown",
   "metadata": {},
   "source": [
    "### tap(section: Int, row: Int)"
   ]
  },
  {
   "cell_type": "code",
   "execution_count": 4,
   "metadata": {
    "collapsed": false
   },
   "outputs": [
    {
     "data": {
      "text/markdown": [],
      "text/plain": []
     },
     "execution_count": 4,
     "metadata": {},
     "output_type": "execute_result"
    }
   ],
   "source": [
    "@query vc.tableView.tap(section: 0, row: 1)"
   ]
  },
  {
   "cell_type": "code",
   "execution_count": 5,
   "metadata": {
    "collapsed": false
   },
   "outputs": [
    {
     "data": {
      "text/markdown": [
       "```\n",
       "<UIScreen: 0x7fa2a350f160; bounds = {{0, 0}, {320, 568}}; mode = <UIScreenMode: 0x7fa2a350f560; size = 640.000000 x 1136.000000>>\n",
       "```\n",
       "<img src=\"images/UIScreen.mainScreen-KJiznVCnVL.png?r&#61;KJiznVCnVL\" alt=\"UIScreen.mainScreen\" style=\"width:160.0px; height: 284.0px;\" />"
      ],
      "text/plain": [
       "<UIScreen: 0x7fa2a350f160; bounds = {{0, 0}, {320, 568}}; mode = <UIScreenMode: 0x7fa2a350f560; size = 640.000000 x 1136.000000>>"
      ]
     },
     "execution_count": 5,
     "metadata": {},
     "output_type": "execute_result"
    }
   ],
   "source": [
    "@query UIScreen.mainScreen()"
   ]
  },
  {
   "cell_type": "code",
   "execution_count": 6,
   "metadata": {
    "collapsed": false
   },
   "outputs": [
    {
     "data": {
      "text/markdown": [],
      "text/plain": []
     },
     "execution_count": 6,
     "metadata": {},
     "output_type": "execute_result"
    }
   ],
   "source": [
    "@query vc.navigationController.pop()"
   ]
  },
  {
   "cell_type": "code",
   "execution_count": 7,
   "metadata": {
    "collapsed": false
   },
   "outputs": [
    {
     "data": {
      "text/markdown": [
       "```\n",
       "<UIScreen: 0x7fa2a350f160; bounds = {{0, 0}, {320, 568}}; mode = <UIScreenMode: 0x7fa2a350f560; size = 640.000000 x 1136.000000>>\n",
       "```\n",
       "<img src=\"images/UIScreen.mainScreen-OzJzEUd9U4.png?r&#61;OzJzEUd9U4\" alt=\"UIScreen.mainScreen\" style=\"width:160.0px; height: 284.0px;\" />"
      ],
      "text/plain": [
       "<UIScreen: 0x7fa2a350f160; bounds = {{0, 0}, {320, 568}}; mode = <UIScreenMode: 0x7fa2a350f560; size = 640.000000 x 1136.000000>>"
      ]
     },
     "execution_count": 7,
     "metadata": {},
     "output_type": "execute_result"
    }
   ],
   "source": [
    "@query UIScreen.mainScreen()"
   ]
  },
  {
   "cell_type": "markdown",
   "metadata": {},
   "source": [
    "### tap(index: Int)"
   ]
  },
  {
   "cell_type": "code",
   "execution_count": 8,
   "metadata": {
    "collapsed": false
   },
   "outputs": [
    {
     "data": {
      "text/markdown": [],
      "text/plain": []
     },
     "execution_count": 8,
     "metadata": {},
     "output_type": "execute_result"
    }
   ],
   "source": [
    "@query vc.tableView.tap(index: 2)"
   ]
  },
  {
   "cell_type": "code",
   "execution_count": 9,
   "metadata": {
    "collapsed": false
   },
   "outputs": [
    {
     "data": {
      "text/markdown": [
       "```\n",
       "<UIScreen: 0x7fa2a350f160; bounds = {{0, 0}, {320, 568}}; mode = <UIScreenMode: 0x7fa2a350f560; size = 640.000000 x 1136.000000>>\n",
       "```\n",
       "<img src=\"images/UIScreen.mainScreen-6aDChwIYLE.png?r&#61;6aDChwIYLE\" alt=\"UIScreen.mainScreen\" style=\"width:160.0px; height: 284.0px;\" />"
      ],
      "text/plain": [
       "<UIScreen: 0x7fa2a350f160; bounds = {{0, 0}, {320, 568}}; mode = <UIScreenMode: 0x7fa2a350f560; size = 640.000000 x 1136.000000>>"
      ]
     },
     "execution_count": 9,
     "metadata": {},
     "output_type": "execute_result"
    }
   ],
   "source": [
    "@query UIScreen.mainScreen()"
   ]
  },
  {
   "cell_type": "code",
   "execution_count": 10,
   "metadata": {
    "collapsed": false
   },
   "outputs": [
    {
     "data": {
      "text/markdown": [],
      "text/plain": []
     },
     "execution_count": 10,
     "metadata": {},
     "output_type": "execute_result"
    }
   ],
   "source": [
    "@query vc.navigationController.pop()"
   ]
  },
  {
   "cell_type": "markdown",
   "metadata": {},
   "source": [
    "### tap(text: String)"
   ]
  },
  {
   "cell_type": "code",
   "execution_count": 11,
   "metadata": {
    "collapsed": false
   },
   "outputs": [
    {
     "data": {
      "text/markdown": [],
      "text/plain": []
     },
     "execution_count": 11,
     "metadata": {},
     "output_type": "execute_result"
    }
   ],
   "source": [
    "@query vc.tableView.tap(text: \"cyan\")"
   ]
  },
  {
   "cell_type": "code",
   "execution_count": 12,
   "metadata": {
    "collapsed": false
   },
   "outputs": [
    {
     "data": {
      "text/markdown": [
       "```\n",
       "<UIScreen: 0x7fa2a350f160; bounds = {{0, 0}, {320, 568}}; mode = <UIScreenMode: 0x7fa2a350f560; size = 640.000000 x 1136.000000>>\n",
       "```\n",
       "<img src=\"images/UIScreen.mainScreen-jZmVuS9UT2.png?r&#61;jZmVuS9UT2\" alt=\"UIScreen.mainScreen\" style=\"width:160.0px; height: 284.0px;\" />"
      ],
      "text/plain": [
       "<UIScreen: 0x7fa2a350f160; bounds = {{0, 0}, {320, 568}}; mode = <UIScreenMode: 0x7fa2a350f560; size = 640.000000 x 1136.000000>>"
      ]
     },
     "execution_count": 12,
     "metadata": {},
     "output_type": "execute_result"
    }
   ],
   "source": [
    "@query UIScreen.mainScreen()"
   ]
  },
  {
   "cell_type": "code",
   "execution_count": 13,
   "metadata": {
    "collapsed": false
   },
   "outputs": [
    {
     "data": {
      "text/markdown": [],
      "text/plain": []
     },
     "execution_count": 13,
     "metadata": {},
     "output_type": "execute_result"
    }
   ],
   "source": [
    "@query vc.navigationController.pop()"
   ]
  },
  {
   "cell_type": "code",
   "execution_count": 14,
   "metadata": {
    "collapsed": false
   },
   "outputs": [
    {
     "data": {
      "text/plain": [
       "false"
      ]
     },
     "execution_count": 14,
     "metadata": {},
     "output_type": "execute_result"
    }
   ],
   "source": [
    "ENV[\"SWIFTER_SAVE_IMAGE\"] = false"
   ]
  }
 ],
 "metadata": {
  "kernelspec": {
   "display_name": "Julia 0.4.5",
   "language": "julia",
   "name": "julia-0.4"
  },
  "language_info": {
   "file_extension": ".jl",
   "mimetype": "application/julia",
   "name": "julia",
   "version": "0.4.5"
  }
 },
 "nbformat": 4,
 "nbformat_minor": 0
}
